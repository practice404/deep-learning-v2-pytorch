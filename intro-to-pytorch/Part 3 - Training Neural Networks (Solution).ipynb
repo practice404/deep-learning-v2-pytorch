{
 "cells": [
  {
   "cell_type": "markdown",
<<<<<<< HEAD
   "metadata": {},
=======
>>>>>>> 557fa63 (completed till sentiment analysis)
   "source": [
    "# Training Neural Networks\n",
    "\n",
    "The network we built in the previous part isn't so smart, it doesn't know anything about our handwritten digits. Neural networks with non-linear activations work like universal function approximators. There is some function that maps your input to the output. For example, images of handwritten digits to class probabilities. The power of neural networks is that we can train them to approximate this function, and basically any function given enough data and compute time.\n",
    "\n",
    "<img src=\"assets/function_approx.png\" width=500px>\n",
    "\n",
    "At first the network is naive, it doesn't know the function mapping the inputs to the outputs. We train the network by showing it examples of real data, then adjusting the network parameters such that it approximates this function.\n",
    "\n",
    "To find these parameters, we need to know how poorly the network is predicting the real outputs. For this we calculate a **loss function** (also called the cost), a measure of our prediction error. For example, the mean squared loss is often used in regression and binary classification problems\n",
    "\n",
    "$$\n",
    "\\large \\ell = \\frac{1}{2n}\\sum_i^n{\\left(y_i - \\hat{y}_i\\right)^2}\n",
    "$$\n",
    "\n",
    "where $n$ is the number of training examples, $y_i$ are the true labels, and $\\hat{y}_i$ are the predicted labels.\n",
    "\n",
    "By minimizing this loss with respect to the network parameters, we can find configurations where the loss is at a minimum and the network is able to predict the correct labels with high accuracy. We find this minimum using a process called **gradient descent**. The gradient is the slope of the loss function and points in the direction of fastest change. To get to the minimum in the least amount of time, we then want to follow the gradient (downwards). You can think of this like descending a mountain by following the steepest slope to the base.\n",
    "\n",
    "<img src='assets/gradient_descent.png' width=350px>"
<<<<<<< HEAD
   ]
  },
  {
   "cell_type": "markdown",
   "metadata": {},
=======
   ],
   "metadata": {}
  },
  {
   "cell_type": "markdown",
>>>>>>> 557fa63 (completed till sentiment analysis)
   "source": [
    "## Backpropagation\n",
    "\n",
    "For single layer networks, gradient descent is straightforward to implement. However, it's more complicated for deeper, multilayer neural networks like the one we've built. Complicated enough that it took about 30 years before researchers figured out how to train multilayer networks.\n",
    "\n",
    "Training multilayer networks is done through **backpropagation** which is really just an application of the chain rule from calculus. It's easiest to understand if we convert a two layer network into a graph representation.\n",
    "\n",
    "<img src='assets/backprop_diagram.png' width=550px>\n",
    "\n",
    "In the forward pass through the network, our data and operations go from bottom to top here. We pass the input $x$ through a linear transformation $L_1$ with weights $W_1$ and biases $b_1$. The output then goes through the sigmoid operation $S$ and another linear transformation $L_2$. Finally we calculate the loss $\\ell$. We use the loss as a measure of how bad the network's predictions are. The goal then is to adjust the weights and biases to minimize the loss.\n",
    "\n",
    "To train the weights with gradient descent, we propagate the gradient of the loss backwards through the network. Each operation has some gradient between the inputs and outputs. As we send the gradients backwards, we multiply the incoming gradient with the gradient for the operation. Mathematically, this is really just calculating the gradient of the loss with respect to the weights using the chain rule.\n",
    "\n",
    "$$\n",
    "\\large \\frac{\\partial \\ell}{\\partial W_1} = \\frac{\\partial L_1}{\\partial W_1} \\frac{\\partial S}{\\partial L_1} \\frac{\\partial L_2}{\\partial S} \\frac{\\partial \\ell}{\\partial L_2}\n",
    "$$\n",
    "\n",
    "**Note:** I'm glossing over a few details here that require some knowledge of vector calculus, but they aren't necessary to understand what's going on.\n",
    "\n",
    "We update our weights using this gradient with some learning rate $\\alpha$. \n",
    "\n",
    "$$\n",
    "\\large W^\\prime_1 = W_1 - \\alpha \\frac{\\partial \\ell}{\\partial W_1}\n",
    "$$\n",
    "\n",
    "The learning rate $\\alpha$ is set such that the weight update steps are small enough that the iterative method settles in a minimum."
<<<<<<< HEAD
   ]
  },
  {
   "cell_type": "markdown",
   "metadata": {},
=======
   ],
   "metadata": {}
  },
  {
   "cell_type": "markdown",
>>>>>>> 557fa63 (completed till sentiment analysis)
   "source": [
    "## Losses in PyTorch\n",
    "\n",
    "Let's start by seeing how we calculate the loss with PyTorch. Through the `nn` module, PyTorch provides losses such as the cross-entropy loss (`nn.CrossEntropyLoss`). You'll usually see the loss assigned to `criterion`. As noted in the last part, with a classification problem such as MNIST, we're using the softmax function to predict class probabilities. With a softmax output, you want to use cross-entropy as the loss. To actually calculate the loss, you first define the criterion then pass in the output of your network and the correct labels.\n",
    "\n",
    "Something really important to note here. Looking at [the documentation for `nn.CrossEntropyLoss`](https://pytorch.org/docs/stable/nn.html#torch.nn.CrossEntropyLoss),\n",
    "\n",
    "> This criterion combines `nn.LogSoftmax()` and `nn.NLLLoss()` in one single class.\n",
    ">\n",
    "> The input is expected to contain scores for each class.\n",
    "\n",
    "This means we need to pass in the raw output of our network into the loss, not the output of the softmax function. This raw output is usually called the *logits* or *scores*. We use the logits because softmax gives you probabilities which will often be very close to zero or one but floating-point numbers can't accurately represent values near zero or one ([read more here](https://docs.python.org/3/tutorial/floatingpoint.html)). It's usually best to avoid doing calculations with probabilities, typically we use log-probabilities."
<<<<<<< HEAD
   ]
  },
  {
   "cell_type": "code",
   "execution_count": null,
   "metadata": {},
   "outputs": [],
=======
   ],
   "metadata": {}
  },
  {
   "cell_type": "code",
   "execution_count": 2,
>>>>>>> 557fa63 (completed till sentiment analysis)
   "source": [
    "# The MNIST datasets are hosted on yann.lecun.com that has moved under CloudFlare protection\n",
    "# Run this script to enable the datasets download\n",
    "# Reference: https://github.com/pytorch/vision/issues/1938\n",
    "\n",
    "from six.moves import urllib\n",
    "opener = urllib.request.build_opener()\n",
    "opener.addheaders = [('User-agent', 'Mozilla/5.0')]\n",
    "urllib.request.install_opener(opener)"
<<<<<<< HEAD
   ]
  },
  {
   "cell_type": "code",
   "execution_count": 1,
   "metadata": {},
   "outputs": [],
=======
   ],
   "outputs": [],
   "metadata": {}
  },
  {
   "cell_type": "code",
   "execution_count": 3,
>>>>>>> 557fa63 (completed till sentiment analysis)
   "source": [
    "import torch\n",
    "from torch import nn\n",
    "import torch.nn.functional as F\n",
    "from torchvision import datasets, transforms\n",
    "\n",
    "# Define a transform to normalize the data\n",
    "transform = transforms.Compose([transforms.ToTensor(),\n",
    "                                transforms.Normalize((0.5,), (0.5,)),\n",
    "                              ])\n",
    "# Download and load the training data\n",
    "trainset = datasets.MNIST('~/.pytorch/MNIST_data/', download=True, train=True, transform=transform)\n",
    "trainloader = torch.utils.data.DataLoader(trainset, batch_size=64, shuffle=True)"
<<<<<<< HEAD
   ]
  },
  {
   "cell_type": "code",
   "execution_count": 2,
   "metadata": {},
   "outputs": [
    {
     "name": "stdout",
     "output_type": "stream",
     "text": [
      "tensor(2.2810)\n"
     ]
    }
   ],
=======
   ],
   "outputs": [
    {
     "output_type": "stream",
     "name": "stderr",
     "text": [
      "/Users/swayam/Desktop/deep-learning-v2-pytorch/venv/lib/python3.8/site-packages/torchvision/datasets/mnist.py:498: UserWarning: The given NumPy array is not writeable, and PyTorch does not support non-writeable tensors. This means you can write to the underlying (supposedly non-writeable) NumPy array using the tensor. You may want to copy the array to protect its data or make it writeable before converting it to a tensor. This type of warning will be suppressed for the rest of this program. (Triggered internally at  ../torch/csrc/utils/tensor_numpy.cpp:180.)\n",
      "  return torch.from_numpy(parsed.astype(m[2], copy=False)).view(*s)\n"
     ]
    }
   ],
   "metadata": {}
  },
  {
   "cell_type": "code",
   "execution_count": 4,
>>>>>>> 557fa63 (completed till sentiment analysis)
   "source": [
    "# Build a feed-forward network\n",
    "model = nn.Sequential(nn.Linear(784, 128),\n",
    "                      nn.ReLU(),\n",
    "                      nn.Linear(128, 64),\n",
    "                      nn.ReLU(),\n",
    "                      nn.Linear(64, 10))\n",
    "\n",
    "# Define the loss\n",
    "criterion = nn.CrossEntropyLoss()\n",
    "\n",
    "# Get our data\n",
    "images, labels = next(iter(trainloader))\n",
    "# Flatten images\n",
    "images = images.view(images.shape[0], -1)\n",
    "\n",
    "# Forward pass, get our logits\n",
    "logits = model(images)\n",
    "# Calculate the loss with the logits and the labels\n",
    "loss = criterion(logits, labels)\n",
    "\n",
    "print(loss)"
<<<<<<< HEAD
   ]
  },
  {
   "cell_type": "markdown",
   "metadata": {},
=======
   ],
   "outputs": [
    {
     "output_type": "stream",
     "name": "stdout",
     "text": [
      "tensor(2.3068, grad_fn=<NllLossBackward>)\n"
     ]
    }
   ],
   "metadata": {}
  },
  {
   "cell_type": "markdown",
>>>>>>> 557fa63 (completed till sentiment analysis)
   "source": [
    "In my experience it's more convenient to build the model with a log-softmax output using `nn.LogSoftmax` or `F.log_softmax` ([documentation](https://pytorch.org/docs/stable/nn.html#torch.nn.LogSoftmax)). Then you can get the actual probabilites by taking the exponential `torch.exp(output)`. With a log-softmax output, you want to use the negative log likelihood loss, `nn.NLLLoss` ([documentation](https://pytorch.org/docs/stable/nn.html#torch.nn.NLLLoss)).\n",
    "\n",
    ">**Exercise:** Build a model that returns the log-softmax as the output and calculate the loss using the negative log likelihood loss."
<<<<<<< HEAD
   ]
  },
  {
   "cell_type": "code",
   "execution_count": 3,
   "metadata": {},
   "outputs": [
    {
     "name": "stdout",
     "output_type": "stream",
     "text": [
      "tensor(2.3118)\n"
     ]
    }
   ],
=======
   ],
   "metadata": {}
  },
  {
   "cell_type": "code",
   "execution_count": 5,
>>>>>>> 557fa63 (completed till sentiment analysis)
   "source": [
    "## Solution\n",
    "\n",
    "# Build a feed-forward network\n",
    "model = nn.Sequential(nn.Linear(784, 128),\n",
    "                      nn.ReLU(),\n",
    "                      nn.Linear(128, 64),\n",
    "                      nn.ReLU(),\n",
    "                      nn.Linear(64, 10),\n",
    "                      nn.LogSoftmax(dim=1))\n",
    "\n",
    "# Define the loss\n",
    "criterion = nn.NLLLoss()\n",
    "\n",
    "# Get our data\n",
    "images, labels = next(iter(trainloader))\n",
    "# Flatten images\n",
    "images = images.view(images.shape[0], -1)\n",
    "\n",
    "# Forward pass, get our log-probabilities\n",
    "logps = model(images)\n",
    "# Calculate the loss with the logps and the labels\n",
    "loss = criterion(logps, labels)\n",
    "\n",
    "print(loss)"
<<<<<<< HEAD
   ]
  },
  {
   "cell_type": "markdown",
   "metadata": {},
=======
   ],
   "outputs": [
    {
     "output_type": "stream",
     "name": "stdout",
     "text": [
      "tensor(2.3019, grad_fn=<NllLossBackward>)\n"
     ]
    }
   ],
   "metadata": {}
  },
  {
   "cell_type": "markdown",
>>>>>>> 557fa63 (completed till sentiment analysis)
   "source": [
    "## Autograd\n",
    "\n",
    "Now that we know how to calculate a loss, how do we use it to perform backpropagation? Torch provides a module, `autograd`, for automatically calculating the gradients of tensors. We can use it to calculate the gradients of all our parameters with respect to the loss. Autograd works by keeping track of operations performed on tensors, then going backwards through those operations, calculating gradients along the way. To make sure PyTorch keeps track of operations on a tensor and calculates the gradients, you need to set `requires_grad = True` on a tensor. You can do this at creation with the `requires_grad` keyword, or at any time with `x.requires_grad_(True)`.\n",
    "\n",
    "You can turn off gradients for a block of code with the `torch.no_grad()` content:\n",
    "```python\n",
    "x = torch.zeros(1, requires_grad=True)\n",
    ">>> with torch.no_grad():\n",
    "...     y = x * 2\n",
    ">>> y.requires_grad\n",
    "False\n",
    "```\n",
    "\n",
    "Also, you can turn on or off gradients altogether with `torch.set_grad_enabled(True|False)`.\n",
    "\n",
    "The gradients are computed with respect to some variable `z` with `z.backward()`. This does a backward pass through the operations that created `z`."
<<<<<<< HEAD
   ]
  },
  {
   "cell_type": "code",
   "execution_count": 4,
   "metadata": {},
   "outputs": [
    {
     "name": "stdout",
     "output_type": "stream",
     "text": [
      "tensor([[ 0.7652, -1.4550],\n",
      "        [-1.2232,  0.1810]])\n"
     ]
    }
   ],
   "source": [
    "x = torch.randn(2,2, requires_grad=True)\n",
    "print(x)"
   ]
  },
  {
   "cell_type": "code",
   "execution_count": 5,
   "metadata": {},
   "outputs": [
    {
     "name": "stdout",
     "output_type": "stream",
     "text": [
      "tensor([[ 0.5856,  2.1170],\n",
      "        [ 1.4962,  0.0328]])\n"
     ]
    }
   ],
   "source": [
    "y = x**2\n",
    "print(y)"
   ]
  },
  {
   "cell_type": "markdown",
   "metadata": {},
   "source": [
    "Below we can see the operation that created `y`, a power operation `PowBackward0`."
   ]
  },
  {
   "cell_type": "code",
   "execution_count": 6,
   "metadata": {},
   "outputs": [
    {
     "name": "stdout",
     "output_type": "stream",
     "text": [
      "<PowBackward0 object at 0x10b508b70>\n"
     ]
    }
   ],
   "source": [
    "## grad_fn shows the function that generated this variable\n",
    "print(y.grad_fn)"
   ]
  },
  {
   "cell_type": "markdown",
   "metadata": {},
   "source": [
    "The autograd module keeps track of these operations and knows how to calculate the gradient for each one. In this way, it's able to calculate the gradients for a chain of operations, with respect to any one tensor. Let's reduce the tensor `y` to a scalar value, the mean."
   ]
  },
  {
   "cell_type": "code",
   "execution_count": 7,
   "metadata": {},
   "outputs": [
    {
     "name": "stdout",
     "output_type": "stream",
     "text": [
      "tensor(1.0579)\n"
     ]
    }
   ],
   "source": [
    "z = y.mean()\n",
    "print(z)"
   ]
  },
  {
   "cell_type": "markdown",
   "metadata": {},
   "source": [
    "You can check the gradients for `x` and `y` but they are empty currently."
   ]
  },
  {
   "cell_type": "code",
   "execution_count": 8,
   "metadata": {},
   "outputs": [
    {
     "name": "stdout",
     "output_type": "stream",
=======
   ],
   "metadata": {}
  },
  {
   "cell_type": "code",
   "execution_count": 5,
   "source": [
    "x = torch.randn(2,2, requires_grad=True)\n",
    "print(x)"
   ],
   "outputs": [
    {
     "output_type": "stream",
     "name": "stdout",
     "text": [
      "tensor([[ 1.0775, -0.0307],\n",
      "        [ 1.2154, -0.4104]], requires_grad=True)\n"
     ]
    }
   ],
   "metadata": {}
  },
  {
   "cell_type": "code",
   "execution_count": 6,
   "source": [
    "y = x**2\n",
    "print(y)"
   ],
   "outputs": [
    {
     "output_type": "stream",
     "name": "stdout",
     "text": [
      "tensor([[1.1610e+00, 9.4275e-04],\n",
      "        [1.4771e+00, 1.6842e-01]], grad_fn=<PowBackward0>)\n"
     ]
    }
   ],
   "metadata": {}
  },
  {
   "cell_type": "markdown",
   "source": [
    "Below we can see the operation that created `y`, a power operation `PowBackward0`."
   ],
   "metadata": {}
  },
  {
   "cell_type": "code",
   "execution_count": 7,
   "source": [
    "## grad_fn shows the function that generated this variable\n",
    "print(y.grad_fn)"
   ],
   "outputs": [
    {
     "output_type": "stream",
     "name": "stdout",
     "text": [
      "<PowBackward0 object at 0x7fae58638a60>\n"
     ]
    }
   ],
   "metadata": {}
  },
  {
   "cell_type": "markdown",
   "source": [
    "The autograd module keeps track of these operations and knows how to calculate the gradient for each one. In this way, it's able to calculate the gradients for a chain of operations, with respect to any one tensor. Let's reduce the tensor `y` to a scalar value, the mean."
   ],
   "metadata": {}
  },
  {
   "cell_type": "code",
   "execution_count": 8,
   "source": [
    "z = y.mean()\n",
    "print(z)"
   ],
   "outputs": [
    {
     "output_type": "stream",
     "name": "stdout",
     "text": [
      "tensor(0.7019, grad_fn=<MeanBackward0>)\n"
     ]
    }
   ],
   "metadata": {}
  },
  {
   "cell_type": "markdown",
   "source": [
    "You can check the gradients for `x` and `y` but they are empty currently."
   ],
   "metadata": {}
  },
  {
   "cell_type": "code",
   "execution_count": 9,
   "source": [
    "print(x.grad)"
   ],
   "outputs": [
    {
     "output_type": "stream",
     "name": "stdout",
>>>>>>> 557fa63 (completed till sentiment analysis)
     "text": [
      "None\n"
     ]
    }
   ],
<<<<<<< HEAD
   "source": [
    "print(x.grad)"
   ]
  },
  {
   "cell_type": "markdown",
   "metadata": {},
=======
   "metadata": {}
  },
  {
   "cell_type": "markdown",
>>>>>>> 557fa63 (completed till sentiment analysis)
   "source": [
    "To calculate the gradients, you need to run the `.backward` method on a Variable, `z` for example. This will calculate the gradient for `z` with respect to `x`\n",
    "\n",
    "$$\n",
    "\\frac{\\partial z}{\\partial x} = \\frac{\\partial}{\\partial x}\\left[\\frac{1}{n}\\sum_i^n x_i^2\\right] = \\frac{x}{2}\n",
    "$$"
<<<<<<< HEAD
   ]
  },
  {
   "cell_type": "code",
   "execution_count": 9,
   "metadata": {},
   "outputs": [
    {
     "name": "stdout",
     "output_type": "stream",
     "text": [
      "tensor([[ 0.3826, -0.7275],\n",
      "        [-0.6116,  0.0905]])\n",
      "tensor([[ 0.3826, -0.7275],\n",
      "        [-0.6116,  0.0905]])\n"
     ]
    }
   ],
   "source": [
    "z.backward()\n",
    "print(x.grad)\n",
    "print(x/2)"
   ]
  },
  {
   "cell_type": "markdown",
   "metadata": {},
   "source": [
    "These gradients calculations are particularly useful for neural networks. For training we need the gradients of the weights with respect to the cost. With PyTorch, we run data forward through the network to calculate the loss, then, go backwards to calculate the gradients with respect to the loss. Once we have the gradients we can make a gradient descent step. "
   ]
  },
  {
   "cell_type": "markdown",
   "metadata": {},
=======
   ],
   "metadata": {}
  },
  {
   "cell_type": "code",
   "execution_count": 10,
   "source": [
    "z.backward()\n",
    "print(x.grad)\n",
    "print(x/2)"
   ],
   "outputs": [
    {
     "output_type": "stream",
     "name": "stdout",
     "text": [
      "tensor([[ 0.5388, -0.0154],\n",
      "        [ 0.6077, -0.2052]])\n",
      "tensor([[ 0.5388, -0.0154],\n",
      "        [ 0.6077, -0.2052]], grad_fn=<DivBackward0>)\n"
     ]
    }
   ],
   "metadata": {}
  },
  {
   "cell_type": "markdown",
   "source": [
    "These gradients calculations are particularly useful for neural networks. For training we need the gradients of the weights with respect to the cost. With PyTorch, we run data forward through the network to calculate the loss, then, go backwards to calculate the gradients with respect to the loss. Once we have the gradients we can make a gradient descent step. "
   ],
   "metadata": {}
  },
  {
   "cell_type": "markdown",
>>>>>>> 557fa63 (completed till sentiment analysis)
   "source": [
    "## Loss and Autograd together\n",
    "\n",
    "When we create a network with PyTorch, all of the parameters are initialized with `requires_grad = True`. This means that when we calculate the loss and call `loss.backward()`, the gradients for the parameters are calculated. These gradients are used to update the weights with gradient descent. Below you can see an example of calculating the gradients using a backwards pass."
<<<<<<< HEAD
   ]
  },
  {
   "cell_type": "code",
   "execution_count": 10,
   "metadata": {},
   "outputs": [],
=======
   ],
   "metadata": {}
  },
  {
   "cell_type": "code",
   "execution_count": 11,
>>>>>>> 557fa63 (completed till sentiment analysis)
   "source": [
    "# Build a feed-forward network\n",
    "model = nn.Sequential(nn.Linear(784, 128),\n",
    "                      nn.ReLU(),\n",
    "                      nn.Linear(128, 64),\n",
    "                      nn.ReLU(),\n",
    "                      nn.Linear(64, 10),\n",
    "                      nn.LogSoftmax(dim=1))\n",
    "\n",
    "criterion = nn.NLLLoss()\n",
    "images, labels = next(iter(trainloader))\n",
    "images = images.view(images.shape[0], -1)\n",
    "\n",
    "logps = model(images)\n",
    "loss = criterion(logps, labels)"
<<<<<<< HEAD
   ]
  },
  {
   "cell_type": "code",
   "execution_count": 11,
   "metadata": {},
   "outputs": [
    {
     "name": "stdout",
     "output_type": "stream",
=======
   ],
   "outputs": [],
   "metadata": {}
  },
  {
   "cell_type": "code",
   "execution_count": 12,
   "source": [
    "print('Before backward pass: \\n', model[0].weight.grad)\n",
    "\n",
    "loss.backward()\n",
    "\n",
    "print('After backward pass: \\n', model[0].weight.grad)"
   ],
   "outputs": [
    {
     "output_type": "stream",
     "name": "stdout",
>>>>>>> 557fa63 (completed till sentiment analysis)
     "text": [
      "Before backward pass: \n",
      " None\n",
      "After backward pass: \n",
<<<<<<< HEAD
      " tensor(1.00000e-02 *\n",
      "       [[-0.0296, -0.0296, -0.0296,  ..., -0.0296, -0.0296, -0.0296],\n",
      "        [-0.0441, -0.0441, -0.0441,  ..., -0.0441, -0.0441, -0.0441],\n",
      "        [ 0.0177,  0.0177,  0.0177,  ...,  0.0177,  0.0177,  0.0177],\n",
      "        ...,\n",
      "        [ 0.4021,  0.4021,  0.4021,  ...,  0.4021,  0.4021,  0.4021],\n",
      "        [-0.1361, -0.1361, -0.1361,  ..., -0.1361, -0.1361, -0.1361],\n",
      "        [-0.0155, -0.0155, -0.0155,  ..., -0.0155, -0.0155, -0.0155]])\n"
     ]
    }
   ],
   "source": [
    "print('Before backward pass: \\n', model[0].weight.grad)\n",
    "\n",
    "loss.backward()\n",
    "\n",
    "print('After backward pass: \\n', model[0].weight.grad)"
   ]
  },
  {
   "cell_type": "markdown",
   "metadata": {},
=======
      " tensor([[ 1.8801e-04,  1.8801e-04,  1.8801e-04,  ...,  1.8801e-04,\n",
      "          1.8801e-04,  1.8801e-04],\n",
      "        [ 3.9217e-05,  3.9217e-05,  3.9217e-05,  ...,  3.9217e-05,\n",
      "          3.9217e-05,  3.9217e-05],\n",
      "        [ 0.0000e+00,  0.0000e+00,  0.0000e+00,  ...,  0.0000e+00,\n",
      "          0.0000e+00,  0.0000e+00],\n",
      "        ...,\n",
      "        [-4.0378e-03, -4.0378e-03, -4.0378e-03,  ..., -4.0378e-03,\n",
      "         -4.0378e-03, -4.0378e-03],\n",
      "        [-2.8422e-04, -2.8422e-04, -2.8422e-04,  ..., -2.8422e-04,\n",
      "         -2.8422e-04, -2.8422e-04],\n",
      "        [-1.0197e-03, -1.0197e-03, -1.0197e-03,  ..., -1.0197e-03,\n",
      "         -1.0197e-03, -1.0197e-03]])\n"
     ]
    }
   ],
   "metadata": {}
  },
  {
   "cell_type": "markdown",
>>>>>>> 557fa63 (completed till sentiment analysis)
   "source": [
    "## Training the network!\n",
    "\n",
    "There's one last piece we need to start training, an optimizer that we'll use to update the weights with the gradients. We get these from PyTorch's [`optim` package](https://pytorch.org/docs/stable/optim.html). For example we can use stochastic gradient descent with `optim.SGD`. You can see how to define an optimizer below."
<<<<<<< HEAD
   ]
  },
  {
   "cell_type": "code",
   "execution_count": 12,
   "metadata": {},
   "outputs": [],
=======
   ],
   "metadata": {}
  },
  {
   "cell_type": "code",
   "execution_count": 13,
>>>>>>> 557fa63 (completed till sentiment analysis)
   "source": [
    "from torch import optim\n",
    "\n",
    "# Optimizers require the parameters to optimize and a learning rate\n",
    "optimizer = optim.SGD(model.parameters(), lr=0.01)"
<<<<<<< HEAD
   ]
  },
  {
   "cell_type": "markdown",
   "metadata": {},
=======
   ],
   "outputs": [],
   "metadata": {}
  },
  {
   "cell_type": "markdown",
>>>>>>> 557fa63 (completed till sentiment analysis)
   "source": [
    "Now we know how to use all the individual parts so it's time to see how they work together. Let's consider just one learning step before looping through all the data. The general process with PyTorch:\n",
    "\n",
    "* Make a forward pass through the network \n",
    "* Use the network output to calculate the loss\n",
    "* Perform a backward pass through the network with `loss.backward()` to calculate the gradients\n",
    "* Take a step with the optimizer to update the weights\n",
    "\n",
    "Below I'll go through one training step and print out the weights and gradients so you can see how it changes. Note that I have a line of code `optimizer.zero_grad()`. When you do multiple backwards passes with the same parameters, the gradients are accumulated. This means that you need to zero the gradients on each training pass or you'll retain gradients from previous training batches."
<<<<<<< HEAD
   ]
  },
  {
   "cell_type": "code",
   "execution_count": 13,
   "metadata": {},
   "outputs": [
    {
     "name": "stdout",
     "output_type": "stream",
     "text": [
      "Initial weights -  Parameter containing:\n",
      "tensor([[ 3.5691e-02,  2.1438e-02,  2.2862e-02,  ..., -1.3882e-02,\n",
      "         -2.3719e-02, -4.6573e-03],\n",
      "        [-3.2397e-03,  3.5117e-03, -1.5220e-03,  ...,  1.4400e-02,\n",
      "          2.8463e-03,  2.5381e-03],\n",
      "        [ 5.6122e-03,  4.8693e-03, -3.4507e-02,  ..., -2.8224e-02,\n",
      "         -1.2907e-02, -1.5818e-02],\n",
      "        ...,\n",
      "        [-1.4372e-02,  2.3948e-02,  2.8374e-02,  ..., -1.5817e-02,\n",
      "          3.2719e-02,  8.5537e-03],\n",
      "        [-1.1999e-02,  1.9462e-02,  1.3998e-02,  ..., -2.0170e-03,\n",
      "          1.4254e-02,  2.2238e-02],\n",
      "        [ 3.9955e-04,  4.8263e-03, -2.1819e-02,  ...,  1.2959e-02,\n",
      "         -4.4880e-03,  1.4609e-02]])\n",
      "Gradient - tensor(1.00000e-02 *\n",
      "       [[-0.2609, -0.2609, -0.2609,  ..., -0.2609, -0.2609, -0.2609],\n",
      "        [-0.0695, -0.0695, -0.0695,  ..., -0.0695, -0.0695, -0.0695],\n",
      "        [ 0.0514,  0.0514,  0.0514,  ...,  0.0514,  0.0514,  0.0514],\n",
      "        ...,\n",
      "        [ 0.0967,  0.0967,  0.0967,  ...,  0.0967,  0.0967,  0.0967],\n",
      "        [-0.1878, -0.1878, -0.1878,  ..., -0.1878, -0.1878, -0.1878],\n",
      "        [ 0.0281,  0.0281,  0.0281,  ...,  0.0281,  0.0281,  0.0281]])\n"
     ]
    }
   ],
=======
   ],
   "metadata": {}
  },
  {
   "cell_type": "code",
   "execution_count": 14,
>>>>>>> 557fa63 (completed till sentiment analysis)
   "source": [
    "print('Initial weights - ', model[0].weight)\n",
    "\n",
    "images, labels = next(iter(trainloader))\n",
    "images.resize_(64, 784)\n",
    "\n",
    "# Clear the gradients, do this because gradients are accumulated\n",
    "optimizer.zero_grad()\n",
    "\n",
    "# Forward pass, then backward pass, then update weights\n",
    "output = model(images)\n",
    "loss = criterion(output, labels)\n",
    "loss.backward()\n",
    "print('Gradient -', model[0].weight.grad)"
<<<<<<< HEAD
   ]
  },
  {
   "cell_type": "code",
   "execution_count": 14,
   "metadata": {},
   "outputs": [
    {
     "name": "stdout",
     "output_type": "stream",
     "text": [
      "Updated weights -  Parameter containing:\n",
      "tensor([[ 3.5717e-02,  2.1464e-02,  2.2888e-02,  ..., -1.3856e-02,\n",
      "         -2.3693e-02, -4.6312e-03],\n",
      "        [-3.2327e-03,  3.5187e-03, -1.5150e-03,  ...,  1.4407e-02,\n",
      "          2.8533e-03,  2.5450e-03],\n",
      "        [ 5.6071e-03,  4.8642e-03, -3.4513e-02,  ..., -2.8230e-02,\n",
      "         -1.2912e-02, -1.5823e-02],\n",
      "        ...,\n",
      "        [-1.4381e-02,  2.3938e-02,  2.8365e-02,  ..., -1.5827e-02,\n",
      "          3.2709e-02,  8.5441e-03],\n",
      "        [-1.1981e-02,  1.9481e-02,  1.4016e-02,  ..., -1.9983e-03,\n",
      "          1.4272e-02,  2.2257e-02],\n",
      "        [ 3.9674e-04,  4.8235e-03, -2.1821e-02,  ...,  1.2956e-02,\n",
      "         -4.4908e-03,  1.4606e-02]])\n"
     ]
    }
   ],
=======
   ],
   "outputs": [
    {
     "output_type": "stream",
     "name": "stdout",
     "text": [
      "Initial weights -  Parameter containing:\n",
      "tensor([[-0.0196, -0.0046, -0.0205,  ..., -0.0221,  0.0339, -0.0216],\n",
      "        [ 0.0243, -0.0239, -0.0193,  ..., -0.0204,  0.0134, -0.0258],\n",
      "        [ 0.0212,  0.0114,  0.0152,  ...,  0.0050, -0.0096, -0.0140],\n",
      "        ...,\n",
      "        [ 0.0047,  0.0046, -0.0060,  ...,  0.0284,  0.0204, -0.0307],\n",
      "        [ 0.0077, -0.0014,  0.0221,  ..., -0.0077,  0.0292,  0.0265],\n",
      "        [ 0.0340,  0.0020, -0.0141,  ..., -0.0115,  0.0111, -0.0322]],\n",
      "       requires_grad=True)\n",
      "Gradient - tensor([[-1.3496e-04, -1.3496e-04, -1.3496e-04,  ..., -1.3496e-04,\n",
      "         -1.3496e-04, -1.3496e-04],\n",
      "        [ 2.3724e-03,  2.3724e-03,  2.3724e-03,  ...,  2.3724e-03,\n",
      "          2.3724e-03,  2.3724e-03],\n",
      "        [ 0.0000e+00,  0.0000e+00,  0.0000e+00,  ...,  0.0000e+00,\n",
      "          0.0000e+00,  0.0000e+00],\n",
      "        ...,\n",
      "        [-7.6806e-06, -7.6806e-06, -7.6806e-06,  ..., -7.6806e-06,\n",
      "         -7.6806e-06, -7.6806e-06],\n",
      "        [ 1.2551e-03,  1.2551e-03,  1.2551e-03,  ...,  1.2551e-03,\n",
      "          1.2551e-03,  1.2551e-03],\n",
      "        [ 1.4526e-03,  1.4526e-03,  1.4526e-03,  ...,  1.4526e-03,\n",
      "          1.4526e-03,  1.4526e-03]])\n"
     ]
    }
   ],
   "metadata": {}
  },
  {
   "cell_type": "code",
   "execution_count": 15,
>>>>>>> 557fa63 (completed till sentiment analysis)
   "source": [
    "# Take an update step and few the new weights\n",
    "optimizer.step()\n",
    "print('Updated weights - ', model[0].weight)"
<<<<<<< HEAD
   ]
  },
  {
   "cell_type": "markdown",
   "metadata": {},
=======
   ],
   "outputs": [
    {
     "output_type": "stream",
     "name": "stdout",
     "text": [
      "Updated weights -  Parameter containing:\n",
      "tensor([[-0.0196, -0.0046, -0.0205,  ..., -0.0221,  0.0339, -0.0216],\n",
      "        [ 0.0242, -0.0239, -0.0193,  ..., -0.0204,  0.0133, -0.0258],\n",
      "        [ 0.0212,  0.0114,  0.0152,  ...,  0.0050, -0.0096, -0.0140],\n",
      "        ...,\n",
      "        [ 0.0047,  0.0046, -0.0060,  ...,  0.0284,  0.0204, -0.0307],\n",
      "        [ 0.0077, -0.0015,  0.0220,  ..., -0.0077,  0.0292,  0.0264],\n",
      "        [ 0.0340,  0.0020, -0.0141,  ..., -0.0115,  0.0111, -0.0322]],\n",
      "       requires_grad=True)\n"
     ]
    }
   ],
   "metadata": {}
  },
  {
   "cell_type": "markdown",
>>>>>>> 557fa63 (completed till sentiment analysis)
   "source": [
    "### Training for real\n",
    "\n",
    "Now we'll put this algorithm into a loop so we can go through all the images. Some nomenclature, one pass through the entire dataset is called an *epoch*. So here we're going to loop through `trainloader` to get our training batches. For each batch, we'll doing a training pass where we calculate the loss, do a backwards pass, and update the weights.\n",
    "\n",
    "> **Exercise: ** Implement the training pass for our network. If you implemented it correctly, you should see the training loss drop with each epoch."
<<<<<<< HEAD
   ]
  },
  {
   "cell_type": "code",
   "execution_count": 15,
   "metadata": {},
   "outputs": [
    {
     "name": "stdout",
     "output_type": "stream",
     "text": [
      "Training loss: 1.8959971736234897\n",
      "Training loss: 0.8684300759644397\n",
      "Training loss: 0.537974218426864\n",
      "Training loss: 0.43723612014990626\n",
      "Training loss: 0.39094475933165945\n"
     ]
    }
   ],
=======
   ],
   "metadata": {}
  },
  {
   "cell_type": "code",
   "execution_count": 16,
>>>>>>> 557fa63 (completed till sentiment analysis)
   "source": [
    "model = nn.Sequential(nn.Linear(784, 128),\n",
    "                      nn.ReLU(),\n",
    "                      nn.Linear(128, 64),\n",
    "                      nn.ReLU(),\n",
    "                      nn.Linear(64, 10),\n",
    "                      nn.LogSoftmax(dim=1))\n",
    "\n",
    "criterion = nn.NLLLoss()\n",
    "optimizer = optim.SGD(model.parameters(), lr=0.003)\n",
    "\n",
    "epochs = 5\n",
    "for e in range(epochs):\n",
    "    running_loss = 0\n",
    "    for images, labels in trainloader:\n",
    "        # Flatten MNIST images into a 784 long vector\n",
    "        images = images.view(images.shape[0], -1)\n",
    "    \n",
    "        # TODO: Training pass\n",
    "        optimizer.zero_grad()\n",
    "        \n",
    "        output = model(images)\n",
    "        loss = criterion(output, labels)\n",
    "        loss.backward()\n",
    "        optimizer.step()\n",
    "        \n",
    "        running_loss += loss.item()\n",
    "    else:\n",
    "        print(f\"Training loss: {running_loss/len(trainloader)}\")"
<<<<<<< HEAD
   ]
  },
  {
   "cell_type": "markdown",
   "metadata": {},
   "source": [
    "With the network trained, we can check out it's predictions."
   ]
=======
   ],
   "outputs": [
    {
     "output_type": "stream",
     "name": "stdout",
     "text": [
      "Training loss: 1.8187486831821613\n",
      "Training loss: 0.808361073483282\n",
      "Training loss: 0.521155649506207\n",
      "Training loss: 0.42872848841490774\n",
      "Training loss: 0.3849745156096497\n"
     ]
    }
   ],
   "metadata": {}
  },
  {
   "cell_type": "markdown",
   "source": [
    "With the network trained, we can check out it's predictions."
   ],
   "metadata": {}
>>>>>>> 557fa63 (completed till sentiment analysis)
  },
  {
   "cell_type": "code",
   "execution_count": 17,
<<<<<<< HEAD
   "metadata": {},
   "outputs": [
    {
     "data": {
      "image/png": "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\n",
      "text/plain": [
       "<Figure size 432x648 with 2 Axes>"
      ]
     },
     "metadata": {
      "needs_background": "light"
     },
     "output_type": "display_data"
    }
   ],
=======
>>>>>>> 557fa63 (completed till sentiment analysis)
   "source": [
    "%matplotlib inline\n",
    "import helper\n",
    "\n",
    "images, labels = next(iter(trainloader))\n",
    "\n",
    "img = images[0].view(1, 784)\n",
    "# Turn off gradients to speed up this part\n",
    "with torch.no_grad():\n",
    "    logps = model(img)\n",
    "\n",
    "# Output of the network are log-probabilities, need to take exponential for probabilities\n",
<<<<<<< HEAD
    "ps = torch.exp(logps)\n",
    "helper.view_classify(img.view(1, 28, 28), ps)"
   ]
  },
  {
   "cell_type": "markdown",
   "metadata": {},
   "source": [
    "Now our network is brilliant. It can accurately predict the digits in our images. Next up you'll write the code for training a neural network on a more complex dataset."
   ]
=======
    "ps = torch.exp(logps) \n",
    "helper.view_classify(img.view(1, 28, 28), ps)"
   ],
   "outputs": [
    {
     "output_type": "display_data",
     "data": {
      "image/png": "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",
      "text/plain": [
       "<Figure size 432x648 with 2 Axes>"
      ]
     },
     "metadata": {
      "needs_background": "light"
     }
    }
   ],
   "metadata": {}
  },
  {
   "cell_type": "markdown",
   "source": [
    "Now our network is brilliant. It can accurately predict the digits in our images. Next up you'll write the code for training a neural network on a more complex dataset."
   ],
   "metadata": {}
>>>>>>> 557fa63 (completed till sentiment analysis)
  }
 ],
 "metadata": {
  "kernelspec": {
<<<<<<< HEAD
   "display_name": "Python 3",
   "language": "python",
   "name": "python3"
=======
   "name": "python3",
   "display_name": "Python 3.8.10 64-bit ('venv': venv)"
>>>>>>> 557fa63 (completed till sentiment analysis)
  },
  "language_info": {
   "codemirror_mode": {
    "name": "ipython",
    "version": 3
   },
   "file_extension": ".py",
   "mimetype": "text/x-python",
   "name": "python",
   "nbconvert_exporter": "python",
   "pygments_lexer": "ipython3",
<<<<<<< HEAD
   "version": "3.7.1"
=======
   "version": "3.8.10"
  },
  "interpreter": {
   "hash": "6d0ce585ba42aaeb440d8bc31b1cfe4df4b28be41ad5aca95db481df065fbb3c"
>>>>>>> 557fa63 (completed till sentiment analysis)
  }
 },
 "nbformat": 4,
 "nbformat_minor": 2
<<<<<<< HEAD
}
=======
}
>>>>>>> 557fa63 (completed till sentiment analysis)

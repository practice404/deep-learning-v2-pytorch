{
 "cells": [
  {
<<<<<<< HEAD
   "cell_type": "markdown",
   "metadata": {},
   "source": [
    "# Neural networks with PyTorch\n",
    "\n",
    "Deep learning networks tend to be massive with dozens or hundreds of layers, that's where the term \"deep\" comes from. You can build one of these deep networks using only weight matrices as we did in the previous notebook, but in general it's very cumbersome and difficult to implement. PyTorch has a nice module `nn` that provides a nice way to efficiently build large neural networks."
   ]
  },
  {
   "cell_type": "code",
   "execution_count": null,
   "metadata": {
    "collapsed": true
   },
   "outputs": [],
=======
   "cell_type": "code",
   "execution_count": 1,
>>>>>>> 557fa63 (completed till sentiment analysis)
   "source": [
    "# Import necessary packages\n",
    "\n",
    "%matplotlib inline\n",
    "%config InlineBackend.figure_format = 'retina'\n",
    "\n",
    "import numpy as np\n",
    "import torch\n",
    "\n",
    "import helper\n",
    "\n",
    "import matplotlib.pyplot as plt"
<<<<<<< HEAD
   ]
  },
  {
   "cell_type": "markdown",
   "metadata": {},
   "source": [
    "\n",
    "Now we're going to build a larger network that can solve a (formerly) difficult problem, identifying text in an image. Here we'll use the MNIST dataset which consists of greyscale handwritten digits. Each image is 28x28 pixels, you can see a sample below\n",
    "\n",
    "<img src='assets/mnist.png'>\n",
    "\n",
    "Our goal is to build a neural network that can take one of these images and predict the digit in the image.\n",
    "\n",
    "First up, we need to get our dataset. This is provided through the `torchvision` package. The code below will download the MNIST dataset, then create training and test datasets for us. Don't worry too much about the details here, you'll learn more about this later."
   ]
  },
  {
   "cell_type": "code",
   "execution_count": null,
   "metadata": {},
   "outputs": [],
=======
   ],
   "outputs": [],
   "metadata": {}
  },
  {
   "cell_type": "code",
   "execution_count": 2,
>>>>>>> 557fa63 (completed till sentiment analysis)
   "source": [
    "# The MNIST datasets are hosted on yann.lecun.com that has moved under CloudFlare protection\n",
    "# Run this script to enable the datasets download\n",
    "# Reference: https://github.com/pytorch/vision/issues/1938\n",
    "\n",
    "from six.moves import urllib\n",
    "opener = urllib.request.build_opener()\n",
    "opener.addheaders = [('User-agent', 'Mozilla/5.0')]\n",
    "urllib.request.install_opener(opener)"
<<<<<<< HEAD
   ]
  },
  {
   "cell_type": "code",
   "execution_count": null,
   "metadata": {
    "collapsed": true
   },
   "outputs": [],
=======
   ],
   "outputs": [],
   "metadata": {}
  },
  {
   "cell_type": "code",
   "execution_count": 3,
>>>>>>> 557fa63 (completed till sentiment analysis)
   "source": [
    "### Run this cell\n",
    "\n",
    "from torchvision import datasets, transforms\n",
    "\n",
    "# Define a transform to normalize the data\n",
    "transform = transforms.Compose([transforms.ToTensor(),\n",
    "                              transforms.Normalize((0.5,), (0.5,)),\n",
    "                              ])\n",
    "\n",
    "# Download and load the training data\n",
    "trainset = datasets.MNIST('~/.pytorch/MNIST_data/', download=True, train=True, transform=transform)\n",
    "trainloader = torch.utils.data.DataLoader(trainset, batch_size=64, shuffle=True)"
<<<<<<< HEAD
   ]
  },
  {
   "cell_type": "markdown",
   "metadata": {},
=======
   ],
   "outputs": [
    {
     "output_type": "stream",
     "name": "stderr",
     "text": [
      "/Users/swayam/Desktop/deep-learning-v2-pytorch/venv/lib/python3.8/site-packages/torchvision/datasets/mnist.py:498: UserWarning: The given NumPy array is not writeable, and PyTorch does not support non-writeable tensors. This means you can write to the underlying (supposedly non-writeable) NumPy array using the tensor. You may want to copy the array to protect its data or make it writeable before converting it to a tensor. This type of warning will be suppressed for the rest of this program. (Triggered internally at  ../torch/csrc/utils/tensor_numpy.cpp:180.)\n",
      "  return torch.from_numpy(parsed.astype(m[2], copy=False)).view(*s)\n"
     ]
    }
   ],
   "metadata": {}
  },
  {
   "cell_type": "markdown",
>>>>>>> 557fa63 (completed till sentiment analysis)
   "source": [
    "We have the training data loaded into `trainloader` and we make that an iterator with `iter(trainloader)`. Later, we'll use this to loop through the dataset for training, like\n",
    "\n",
    "```python\n",
    "for image, label in trainloader:\n",
    "    ## do things with images and labels\n",
    "```\n",
    "\n",
    "You'll notice I created the `trainloader` with a batch size of 64, and `shuffle=True`. The batch size is the number of images we get in one iteration from the data loader and pass through our network, often called a *batch*. And `shuffle=True` tells it to shuffle the dataset every time we start going through the data loader again. But here I'm just grabbing the first batch so we can check out the data. We can see below that `images` is just a tensor with size `(64, 1, 28, 28)`. So, 64 images per batch, 1 color channel, and 28x28 images."
<<<<<<< HEAD
   ]
  },
  {
   "cell_type": "code",
   "execution_count": null,
   "metadata": {
    "collapsed": true
   },
   "outputs": [],
=======
   ],
   "metadata": {}
  },
  {
   "cell_type": "code",
   "execution_count": 4,
>>>>>>> 557fa63 (completed till sentiment analysis)
   "source": [
    "dataiter = iter(trainloader)\n",
    "images, labels = dataiter.next()\n",
    "print(type(images))\n",
    "print(images.shape)\n",
    "print(labels.shape)"
<<<<<<< HEAD
   ]
  },
  {
   "cell_type": "markdown",
   "metadata": {},
   "source": [
    "This is what one of the images looks like. "
   ]
  },
  {
   "cell_type": "code",
   "execution_count": null,
   "metadata": {
    "collapsed": true
   },
   "outputs": [],
   "source": [
    "plt.imshow(images[1].numpy().squeeze(), cmap='Greys_r');"
   ]
  },
  {
   "cell_type": "markdown",
   "metadata": {},
   "source": [
    "First, let's try to build a simple network for this dataset using weight matrices and matrix multiplications. Then, we'll see how to do it using PyTorch's `nn` module which provides a much more convenient and powerful method for defining network architectures.\n",
    "\n",
    "The networks you've seen so far are called *fully-connected* or *dense* networks. Each unit in one layer is connected to each unit in the next layer. In fully-connected networks, the input to each layer must be a one-dimensional vector (which can be stacked into a 2D tensor as a batch of multiple examples). However, our images are 28x28 2D tensors, so we need to convert them into 1D vectors. Thinking about sizes, we need to convert the batch of images with shape `(64, 1, 28, 28)` to a have a shape of `(64, 784)`, 784 is 28 times 28. This is typically called *flattening*, we flattened the 2D images into 1D vectors.\n",
    "\n",
    "Previously you built a network with one output unit. Here we need 10 output units, one for each digit. We want our network to predict the digit shown in an image, so what we'll do is calculate probabilities that the image is of any one digit or class. This ends up being a discrete probability distribution over the classes (digits) that tells us the most likely class for the image. That means we need 10 output units for the 10 classes (digits). We'll see how to convert the network output into a probability distribution next.\n",
    "\n",
    "> **Exercise:** Flatten the batch of images `images`. Then build a multi-layer network with 784 input units, 256 hidden units, and 10 output units using random tensors for the weights and biases. For now, use a sigmoid activation for the hidden layer. Leave the output layer without an activation, we'll add one that gives us a probability distribution next."
   ]
  },
  {
   "cell_type": "code",
   "execution_count": null,
   "metadata": {
    "collapsed": true
   },
   "outputs": [],
   "source": [
    "## Your solution\n",
    "\n",
    "\n",
    "out = # output of your network, should have shape (64,10)"
   ]
  },
  {
   "cell_type": "markdown",
   "metadata": {},
   "source": [
    "Now we have 10 outputs for our network. We want to pass in an image to our network and get out a probability distribution over the classes that tells us the likely class(es) the image belongs to. Something that looks like this:\n",
    "<img src='assets/image_distribution.png' width=500px>\n",
    "\n",
    "Here we see that the probability for each class is roughly the same. This is representing an untrained network, it hasn't seen any data yet so it just returns a uniform distribution with equal probabilities for each class.\n",
    "\n",
    "To calculate this probability distribution, we often use the [**softmax** function](https://en.wikipedia.org/wiki/Softmax_function). Mathematically this looks like\n",
    "\n",
    "$$\n",
    "\\Large \\sigma(x_i) = \\cfrac{e^{x_i}}{\\sum_k^K{e^{x_k}}}\n",
    "$$\n",
    "\n",
    "What this does is squish each input $x_i$ between 0 and 1 and normalizes the values to give you a proper probability distribution where the probabilites sum up to one.\n",
    "\n",
    "> **Exercise:** Implement a function `softmax` that performs the softmax calculation and returns probability distributions for each example in the batch. Note that you'll need to pay attention to the shapes when doing this. If you have a tensor `a` with shape `(64, 10)` and a tensor `b` with shape `(64,)`, doing `a/b` will give you an error because PyTorch will try to do the division across the columns (called broadcasting) but you'll get a size mismatch. The way to think about this is for each of the 64 examples, you only want to divide by one value, the sum in the denominator. So you need `b` to have a shape of `(64, 1)`. This way PyTorch will divide the 10 values in each row of `a` by the one value in each row of `b`. Pay attention to how you take the sum as well. You'll need to define the `dim` keyword in `torch.sum`. Setting `dim=0` takes the sum across the rows while `dim=1` takes the sum across the columns."
   ]
  },
  {
   "cell_type": "code",
   "execution_count": null,
   "metadata": {
    "collapsed": true
   },
   "outputs": [],
   "source": [
    "def softmax(x):\n",
    "    ## TODO: Implement the softmax function here\n",
=======
   ],
   "outputs": [
    {
     "output_type": "stream",
     "name": "stdout",
     "text": [
      "<class 'torch.Tensor'>\n",
      "torch.Size([64, 1, 28, 28])\n",
      "torch.Size([64])\n"
     ]
    }
   ],
   "metadata": {}
  },
  {
   "cell_type": "markdown",
   "source": [
    "This is what one of the images looks like. "
   ],
   "metadata": {}
  },
  {
   "cell_type": "code",
   "execution_count": 22,
   "source": [
    "images[1].numpy()[:,:5,:5]"
   ],
   "outputs": [
    {
     "output_type": "execute_result",
     "data": {
      "text/plain": [
       "array([[[-1., -1., -1., -1., -1.],\n",
       "        [-1., -1., -1., -1., -1.],\n",
       "        [-1., -1., -1., -1., -1.],\n",
       "        [-1., -1., -1., -1., -1.],\n",
       "        [-1., -1., -1., -1., -1.]]], dtype=float32)"
      ]
     },
     "metadata": {},
     "execution_count": 22
    }
   ],
   "metadata": {}
  },
  {
   "cell_type": "code",
   "execution_count": 21,
   "source": [
    "images[1].numpy()[:,:5,:5].squeeze()"
   ],
   "outputs": [
    {
     "output_type": "execute_result",
     "data": {
      "text/plain": [
       "array([[-1., -1., -1., -1., -1.],\n",
       "       [-1., -1., -1., -1., -1.],\n",
       "       [-1., -1., -1., -1., -1.],\n",
       "       [-1., -1., -1., -1., -1.],\n",
       "       [-1., -1., -1., -1., -1.]], dtype=float32)"
      ]
     },
     "metadata": {},
     "execution_count": 21
    }
   ],
   "metadata": {}
  },
  {
   "cell_type": "code",
   "execution_count": 24,
   "source": [
    "plt.imshow(images[1].numpy().squeeze(), cmap='Greys_r');"
   ],
   "outputs": [
    {
     "output_type": "display_data",
     "data": {
      "image/png": "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",
      "text/plain": [
       "<Figure size 432x288 with 1 Axes>"
      ]
     },
     "metadata": {
      "image/png": {
       "width": 251,
       "height": 248
      },
      "needs_background": "light"
     }
    }
   ],
   "metadata": {}
  },
  {
   "cell_type": "code",
   "execution_count": 25,
   "source": [
    "def activation(t):\n",
    "    return 1 / (1 + torch.exp(-t))"
   ],
   "outputs": [],
   "metadata": {}
  },
  {
   "cell_type": "code",
   "execution_count": 26,
   "source": [
    "## Your solution\n",
    "inputs = images.view(64,784)\n",
    "n_input = 784\n",
    "n_hidden = 256\n",
    "n_output = 10\n",
    "\n",
    "W1 = torch.randn(n_input,n_hidden)\n",
    "W2 = torch.randn(n_hidden,n_output)\n",
    "B1 = torch.randn(1,n_hidden)\n",
    "B2 = torch.randn(1,n_output)\n",
    "\n",
    "h = activation(torch.mm(inputs,W1)+B1)\n",
    "\n",
    "out = activation(torch.mm(h,W2)+B2) # output of your network, should have shape (64,10)"
   ],
   "outputs": [],
   "metadata": {}
  },
  {
   "cell_type": "code",
   "execution_count": 27,
   "source": [
    "def softmax(x):\n",
    "    num1= torch.exp(x)\n",
    "    denominator = torch.sum(num1,dim=1).view(64,1)\n",
    "    return num1/denominator\n",
>>>>>>> 557fa63 (completed till sentiment analysis)
    "\n",
    "# Here, out should be the output of the network in the previous excercise with shape (64,10)\n",
    "probabilities = softmax(out)\n",
    "\n",
    "# Does it have the right shape? Should be (64, 10)\n",
    "print(probabilities.shape)\n",
    "# Does it sum to 1?\n",
    "print(probabilities.sum(dim=1))"
<<<<<<< HEAD
   ]
  },
  {
   "cell_type": "markdown",
   "metadata": {},
=======
   ],
   "outputs": [
    {
     "output_type": "stream",
     "name": "stdout",
     "text": [
      "torch.Size([64, 10])\n",
      "tensor([1.0000, 1.0000, 1.0000, 1.0000, 1.0000, 1.0000, 1.0000, 1.0000, 1.0000,\n",
      "        1.0000, 1.0000, 1.0000, 1.0000, 1.0000, 1.0000, 1.0000, 1.0000, 1.0000,\n",
      "        1.0000, 1.0000, 1.0000, 1.0000, 1.0000, 1.0000, 1.0000, 1.0000, 1.0000,\n",
      "        1.0000, 1.0000, 1.0000, 1.0000, 1.0000, 1.0000, 1.0000, 1.0000, 1.0000,\n",
      "        1.0000, 1.0000, 1.0000, 1.0000, 1.0000, 1.0000, 1.0000, 1.0000, 1.0000,\n",
      "        1.0000, 1.0000, 1.0000, 1.0000, 1.0000, 1.0000, 1.0000, 1.0000, 1.0000,\n",
      "        1.0000, 1.0000, 1.0000, 1.0000, 1.0000, 1.0000, 1.0000, 1.0000, 1.0000,\n",
      "        1.0000])\n"
     ]
    }
   ],
   "metadata": {}
  },
  {
   "cell_type": "code",
   "execution_count": 10,
   "source": [
    "# softmax(out).view(64,1)\n",
    "# torch.exp(-out)"
   ],
   "outputs": [],
   "metadata": {}
  },
  {
   "cell_type": "markdown",
>>>>>>> 557fa63 (completed till sentiment analysis)
   "source": [
    "## Building networks with PyTorch\n",
    "\n",
    "PyTorch provides a module `nn` that makes building networks much simpler. Here I'll show you how to build the same one as above with 784 inputs, 256 hidden units, 10 output units and a softmax output."
<<<<<<< HEAD
   ]
  },
  {
   "cell_type": "code",
   "execution_count": null,
   "metadata": {
    "collapsed": true
   },
   "outputs": [],
   "source": [
    "from torch import nn"
   ]
  },
  {
   "cell_type": "code",
   "execution_count": null,
   "metadata": {
    "collapsed": true
   },
   "outputs": [],
=======
   ],
   "metadata": {}
  },
  {
   "cell_type": "code",
   "execution_count": 28,
   "source": [
    "from torch import nn"
   ],
   "outputs": [],
   "metadata": {
    "collapsed": true
   }
  },
  {
   "cell_type": "code",
   "execution_count": 29,
>>>>>>> 557fa63 (completed till sentiment analysis)
   "source": [
    "class Network(nn.Module):\n",
    "    def __init__(self):\n",
    "        super().__init__()\n",
    "        \n",
    "        # Inputs to hidden layer linear transformation\n",
    "        self.hidden = nn.Linear(784, 256)\n",
    "        # Output layer, 10 units - one for each digit\n",
    "        self.output = nn.Linear(256, 10)\n",
    "        \n",
    "        # Define sigmoid activation and softmax output \n",
    "        self.sigmoid = nn.Sigmoid()\n",
    "        self.softmax = nn.Softmax(dim=1)\n",
    "        \n",
    "    def forward(self, x):\n",
    "        # Pass the input tensor through each of our operations\n",
    "        x = self.hidden(x)\n",
    "        x = self.sigmoid(x)\n",
    "        x = self.output(x)\n",
    "        x = self.softmax(x)\n",
    "        \n",
    "        return x"
<<<<<<< HEAD
   ]
  },
  {
   "cell_type": "markdown",
   "metadata": {},
=======
   ],
   "outputs": [],
   "metadata": {
    "collapsed": true
   }
  },
  {
   "cell_type": "markdown",
>>>>>>> 557fa63 (completed till sentiment analysis)
   "source": [
    "Let's go through this bit by bit.\n",
    "\n",
    "```python\n",
    "class Network(nn.Module):\n",
    "```\n",
    "\n",
    "Here we're inheriting from `nn.Module`. Combined with `super().__init__()` this creates a class that tracks the architecture and provides a lot of useful methods and attributes. It is mandatory to inherit from `nn.Module` when you're creating a class for your network. The name of the class itself can be anything.\n",
    "\n",
    "```python\n",
    "self.hidden = nn.Linear(784, 256)\n",
    "```\n",
    "\n",
    "This line creates a module for a linear transformation, $x\\mathbf{W} + b$, with 784 inputs and 256 outputs and assigns it to `self.hidden`. The module automatically creates the weight and bias tensors which we'll use in the `forward` method. You can access the weight and bias tensors once the network (`net`) is created with `net.hidden.weight` and `net.hidden.bias`.\n",
    "\n",
    "```python\n",
    "self.output = nn.Linear(256, 10)\n",
    "```\n",
    "\n",
    "Similarly, this creates another linear transformation with 256 inputs and 10 outputs.\n",
    "\n",
    "```python\n",
    "self.sigmoid = nn.Sigmoid()\n",
    "self.softmax = nn.Softmax(dim=1)\n",
    "```\n",
    "\n",
    "Here I defined operations for the sigmoid activation and softmax output. Setting `dim=1` in `nn.Softmax(dim=1)` calculates softmax across the columns.\n",
    "\n",
    "```python\n",
    "def forward(self, x):\n",
    "```\n",
    "\n",
    "PyTorch networks created with `nn.Module` must have a `forward` method defined. It takes in a tensor `x` and passes it through the operations you defined in the `__init__` method.\n",
    "\n",
    "```python\n",
    "x = self.hidden(x)\n",
    "x = self.sigmoid(x)\n",
    "x = self.output(x)\n",
    "x = self.softmax(x)\n",
    "```\n",
    "\n",
    "Here the input tensor `x` is passed through each operation and reassigned to `x`. We can see that the input tensor goes through the hidden layer, then a sigmoid function, then the output layer, and finally the softmax function. It doesn't matter what you name the variables here, as long as the inputs and outputs of the operations match the network architecture you want to build. The order in which you define things in the `__init__` method doesn't matter, but you'll need to sequence the operations correctly in the `forward` method.\n",
    "\n",
    "Now we can create a `Network` object."
<<<<<<< HEAD
   ]
  },
  {
   "cell_type": "code",
   "execution_count": null,
   "metadata": {
    "collapsed": true
   },
   "outputs": [],
=======
   ],
   "metadata": {}
  },
  {
   "cell_type": "code",
   "execution_count": 30,
>>>>>>> 557fa63 (completed till sentiment analysis)
   "source": [
    "# Create the network and look at it's text representation\n",
    "model = Network()\n",
    "model"
<<<<<<< HEAD
   ]
  },
  {
   "cell_type": "markdown",
   "metadata": {},
   "source": [
    "You can define the network somewhat more concisely and clearly using the `torch.nn.functional` module. This is the most common way you'll see networks defined as many operations are simple element-wise functions. We normally import this module as `F`, `import torch.nn.functional as F`."
   ]
  },
  {
   "cell_type": "code",
   "execution_count": null,
   "metadata": {
    "collapsed": true
   },
   "outputs": [],
=======
   ],
   "outputs": [
    {
     "output_type": "execute_result",
     "data": {
      "text/plain": [
       "Network(\n",
       "  (hidden): Linear(in_features=784, out_features=256, bias=True)\n",
       "  (output): Linear(in_features=256, out_features=10, bias=True)\n",
       "  (sigmoid): Sigmoid()\n",
       "  (softmax): Softmax(dim=1)\n",
       ")"
      ]
     },
     "metadata": {},
     "execution_count": 30
    }
   ],
   "metadata": {
    "collapsed": true
   }
  },
  {
   "cell_type": "markdown",
   "source": [
    "You can define the network somewhat more concisely and clearly using the `torch.nn.functional` module. This is the most common way you'll see networks defined as many operations are simple element-wise functions. We normally import this module as `F`, `import torch.nn.functional as F`."
   ],
   "metadata": {}
  },
  {
   "cell_type": "code",
   "execution_count": 31,
>>>>>>> 557fa63 (completed till sentiment analysis)
   "source": [
    "import torch.nn.functional as F\n",
    "\n",
    "class Network(nn.Module):\n",
    "    def __init__(self):\n",
    "        super().__init__()\n",
    "        # Inputs to hidden layer linear transformation\n",
    "        self.hidden = nn.Linear(784, 256)\n",
    "        # Output layer, 10 units - one for each digit\n",
    "        self.output = nn.Linear(256, 10)\n",
    "        \n",
    "    def forward(self, x):\n",
    "        # Hidden layer with sigmoid activation\n",
    "        x = F.sigmoid(self.hidden(x))\n",
    "        # Output layer with softmax activation\n",
    "        x = F.softmax(self.output(x), dim=1)\n",
    "        \n",
    "        return x"
<<<<<<< HEAD
   ]
  },
  {
   "cell_type": "markdown",
   "metadata": {},
=======
   ],
   "outputs": [],
   "metadata": {
    "collapsed": true
   }
  },
  {
   "cell_type": "markdown",
>>>>>>> 557fa63 (completed till sentiment analysis)
   "source": [
    "### Activation functions\n",
    "\n",
    "So far we've only been looking at the sigmoid activation function, but in general any function can be used as an activation function. The only requirement is that for a network to approximate a non-linear function, the activation functions must be non-linear. Here are a few more examples of common activation functions: Tanh (hyperbolic tangent), and ReLU (rectified linear unit).\n",
    "\n",
    "<img src=\"assets/activation.png\" width=700px>\n",
    "\n",
    "In practice, the ReLU function is used almost exclusively as the activation function for hidden layers."
<<<<<<< HEAD
   ]
  },
  {
   "cell_type": "markdown",
   "metadata": {},
   "source": [
    "### Your Turn to Build a Network\n",
    "\n",
    "<img src=\"assets/mlp_mnist.png\" width=600px>\n",
    "\n",
    "> **Exercise:** Create a network with 784 input units, a hidden layer with 128 units and a ReLU activation, then a hidden layer with 64 units and a ReLU activation, and finally an output layer with a softmax activation as shown above. You can use a ReLU activation with the `nn.ReLU` module or `F.relu` function.\n",
    "\n",
    "It's good practice to name your layers by their type of network, for instance 'fc' to represent a fully-connected layer. As you code your solution, use `fc1`, `fc2`, and `fc3` as your layer names."
   ]
  },
  {
   "cell_type": "code",
   "execution_count": null,
   "metadata": {
    "collapsed": true,
    "scrolled": true
   },
   "outputs": [],
   "source": [
    "## Your solution here\n"
   ]
  },
  {
   "cell_type": "markdown",
   "metadata": {},
=======
   ],
   "metadata": {}
  },
  {
   "cell_type": "markdown",
   "source": [
    "Displaying GUI Output : \n",
    "\n",
    "<img src=\"assets/mlp_mnist.png\" width=600px>\n",
    "\n"
   ],
   "metadata": {}
  },
  {
   "cell_type": "code",
   "execution_count": 32,
   "source": [
    "class Network(nn.Module):\n",
    "    def __init__(self):\n",
    "        super().__init__()\n",
    "        self.fc1 = nn.Linear(784,128)\n",
    "        self.fc2 = nn.Linear(128,64)\n",
    "        self.fc3 = nn.Linear(64,10)\n",
    "\n",
    "        self.relu = nn.ReLU()\n",
    "        self.softmax = nn.Softmax(dim=1) # dim=1 ensures that I'm summing along row and moving along column\n",
    "\n",
    "    def forward(self,x):\n",
    "        h1 = self.fc1(x)\n",
    "        h1 = self.relu(h1)\n",
    "        print(h1.shape)\n",
    "        h2 = self.fc2(h1)\n",
    "        h2 = self.relu(h2)\n",
    "        print(h2.shape)\n",
    "        op = self.fc3(h2)\n",
    "        op = self.softmax(op)\n",
    "        return op\n",
    "\n",
    "model = Network()\n",
    "model"
   ],
   "outputs": [
    {
     "output_type": "execute_result",
     "data": {
      "text/plain": [
       "Network(\n",
       "  (fc1): Linear(in_features=784, out_features=128, bias=True)\n",
       "  (fc2): Linear(in_features=128, out_features=64, bias=True)\n",
       "  (fc3): Linear(in_features=64, out_features=10, bias=True)\n",
       "  (relu): ReLU()\n",
       "  (softmax): Softmax(dim=1)\n",
       ")"
      ]
     },
     "metadata": {},
     "execution_count": 32
    }
   ],
   "metadata": {
    "collapsed": true,
    "scrolled": true
   }
  },
  {
   "cell_type": "markdown",
>>>>>>> 557fa63 (completed till sentiment analysis)
   "source": [
    "### Initializing weights and biases\n",
    "\n",
    "The weights and such are automatically initialized for you, but it's possible to customize how they are initialized. The weights and biases are tensors attached to the layer you defined, you can get them with `model.fc1.weight` for instance."
<<<<<<< HEAD
   ]
  },
  {
   "cell_type": "code",
   "execution_count": null,
   "metadata": {
    "collapsed": true
   },
   "outputs": [],
   "source": [
    "print(model.fc1.weight)\n",
    "print(model.fc1.bias)"
   ]
  },
  {
   "cell_type": "markdown",
   "metadata": {},
   "source": [
    "For custom initialization, we want to modify these tensors in place. These are actually autograd *Variables*, so we need to get back the actual tensors with `model.fc1.weight.data`. Once we have the tensors, we can fill them with zeros (for biases) or random normal values."
   ]
  },
  {
   "cell_type": "code",
   "execution_count": null,
   "metadata": {
    "collapsed": true
   },
   "outputs": [],
   "source": [
    "# Set biases to all zeros\n",
    "model.fc1.bias.data.fill_(0)"
   ]
  },
  {
   "cell_type": "code",
   "execution_count": null,
   "metadata": {
    "collapsed": true
   },
   "outputs": [],
   "source": [
    "# sample from random normal with standard dev = 0.01\n",
    "model.fc1.weight.data.normal_(std=0.01)"
   ]
  },
  {
   "cell_type": "markdown",
   "metadata": {},
=======
   ],
   "metadata": {}
  },
  {
   "cell_type": "code",
   "execution_count": 33,
   "source": [
    "print(model.fc1.weight.shape)\n",
    "print(model.fc1.bias.shape)"
   ],
   "outputs": [
    {
     "output_type": "stream",
     "name": "stdout",
     "text": [
      "torch.Size([128, 784])\n",
      "torch.Size([128])\n"
     ]
    }
   ],
   "metadata": {
    "collapsed": true
   }
  },
  {
   "cell_type": "markdown",
   "source": [
    "For custom initialization, we want to modify these tensors in place. These are actually autograd *Variables*, so we need to get back the actual tensors with `model.fc1.weight.data`. Once we have the tensors, we can fill them with zeros (for biases) or random normal values."
   ],
   "metadata": {}
  },
  {
   "cell_type": "code",
   "execution_count": 34,
   "source": [
    "# Set biases to all zeros\n",
    "model.fc1.bias.data.fill_(0)"
   ],
   "outputs": [
    {
     "output_type": "execute_result",
     "data": {
      "text/plain": [
       "tensor([0., 0., 0., 0., 0., 0., 0., 0., 0., 0., 0., 0., 0., 0., 0., 0., 0., 0., 0., 0., 0., 0., 0., 0.,\n",
       "        0., 0., 0., 0., 0., 0., 0., 0., 0., 0., 0., 0., 0., 0., 0., 0., 0., 0., 0., 0., 0., 0., 0., 0.,\n",
       "        0., 0., 0., 0., 0., 0., 0., 0., 0., 0., 0., 0., 0., 0., 0., 0., 0., 0., 0., 0., 0., 0., 0., 0.,\n",
       "        0., 0., 0., 0., 0., 0., 0., 0., 0., 0., 0., 0., 0., 0., 0., 0., 0., 0., 0., 0., 0., 0., 0., 0.,\n",
       "        0., 0., 0., 0., 0., 0., 0., 0., 0., 0., 0., 0., 0., 0., 0., 0., 0., 0., 0., 0., 0., 0., 0., 0.,\n",
       "        0., 0., 0., 0., 0., 0., 0., 0.])"
      ]
     },
     "metadata": {},
     "execution_count": 34
    }
   ],
   "metadata": {
    "collapsed": true
   }
  },
  {
   "cell_type": "code",
   "execution_count": 35,
   "source": [
    "t = torch.from_numpy(np.array([10]))\n",
    "t.data"
   ],
   "outputs": [
    {
     "output_type": "execute_result",
     "data": {
      "text/plain": [
       "tensor([10])"
      ]
     },
     "metadata": {},
     "execution_count": 35
    }
   ],
   "metadata": {}
  },
  {
   "cell_type": "code",
   "execution_count": 36,
   "source": [
    "# sample from random normal with standard dev = 0.01\n",
    "model.fc1.weight.data.normal_(std=0.01)"
   ],
   "outputs": [
    {
     "output_type": "execute_result",
     "data": {
      "text/plain": [
       "tensor([[ 0.0075,  0.0120, -0.0016,  ...,  0.0015,  0.0034, -0.0015],\n",
       "        [ 0.0069, -0.0135,  0.0087,  ..., -0.0058, -0.0046, -0.0067],\n",
       "        [-0.0049,  0.0031,  0.0047,  ...,  0.0087, -0.0101, -0.0004],\n",
       "        ...,\n",
       "        [ 0.0005, -0.0047,  0.0036,  ..., -0.0117, -0.0066, -0.0110],\n",
       "        [-0.0126, -0.0157, -0.0335,  ..., -0.0099, -0.0058,  0.0017],\n",
       "        [ 0.0064, -0.0069, -0.0051,  ..., -0.0066, -0.0022, -0.0014]])"
      ]
     },
     "metadata": {},
     "execution_count": 36
    }
   ],
   "metadata": {
    "collapsed": true
   }
  },
  {
   "cell_type": "markdown",
>>>>>>> 557fa63 (completed till sentiment analysis)
   "source": [
    "### Forward pass\n",
    "\n",
    "Now that we have a network, let's see what happens when we pass in an image."
<<<<<<< HEAD
   ]
  },
  {
   "cell_type": "code",
   "execution_count": null,
   "metadata": {
    "collapsed": true
   },
   "outputs": [],
=======
   ],
   "metadata": {}
  },
  {
   "cell_type": "code",
   "execution_count": 37,
>>>>>>> 557fa63 (completed till sentiment analysis)
   "source": [
    "# Grab some data \n",
    "dataiter = iter(trainloader)\n",
    "images, labels = dataiter.next()\n",
    "\n",
    "# Resize images into a 1D vector, new shape is (batch size, color channels, image pixels) \n",
    "images.resize_(64, 1, 784)\n",
    "# or images.resize_(images.shape[0], 1, 784) to automatically get batch size\n",
    "\n",
    "# Forward pass through the network\n",
    "img_idx = 0\n",
    "ps = model.forward(images[img_idx,:])\n",
    "\n",
    "img = images[img_idx]\n",
    "helper.view_classify(img.view(1, 28, 28), ps)"
<<<<<<< HEAD
   ]
  },
  {
   "cell_type": "markdown",
   "metadata": {},
=======
   ],
   "outputs": [
    {
     "output_type": "stream",
     "name": "stdout",
     "text": [
      "torch.Size([1, 128])\n",
      "torch.Size([1, 64])\n"
     ]
    },
    {
     "output_type": "display_data",
     "data": {
      "image/png": "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",
      "text/plain": [
       "<Figure size 432x648 with 2 Axes>"
      ]
     },
     "metadata": {
      "image/png": {
       "width": 424,
       "height": 235
      },
      "needs_background": "light"
     }
    }
   ],
   "metadata": {
    "collapsed": true
   }
  },
  {
   "cell_type": "markdown",
>>>>>>> 557fa63 (completed till sentiment analysis)
   "source": [
    "As you can see above, our network has basically no idea what this digit is. It's because we haven't trained it yet, all the weights are random!\n",
    "\n",
    "### Using `nn.Sequential`\n",
    "\n",
    "PyTorch provides a convenient way to build networks like this where a tensor is passed sequentially through operations, `nn.Sequential` ([documentation](https://pytorch.org/docs/master/nn.html#torch.nn.Sequential)). Using this to build the equivalent network:"
<<<<<<< HEAD
   ]
  },
  {
   "cell_type": "code",
   "execution_count": null,
   "metadata": {
    "collapsed": true
   },
   "outputs": [],
=======
   ],
   "metadata": {}
  },
  {
   "cell_type": "code",
   "execution_count": 38,
>>>>>>> 557fa63 (completed till sentiment analysis)
   "source": [
    "# Hyperparameters for our network\n",
    "input_size = 784\n",
    "hidden_sizes = [128, 64]\n",
    "output_size = 10\n",
    "\n",
    "# Build a feed-forward network\n",
    "model = nn.Sequential(nn.Linear(input_size, hidden_sizes[0]),\n",
    "                      nn.ReLU(),\n",
    "                      nn.Linear(hidden_sizes[0], hidden_sizes[1]),\n",
    "                      nn.ReLU(),\n",
    "                      nn.Linear(hidden_sizes[1], output_size),\n",
    "                      nn.Softmax(dim=1))\n",
    "print(model)\n",
    "\n",
    "# Forward pass through the network and display output\n",
    "images, labels = next(iter(trainloader))\n",
    "images.resize_(images.shape[0], 1, 784)\n",
    "ps = model.forward(images[0,:])\n",
    "helper.view_classify(images[0].view(1, 28, 28), ps)"
<<<<<<< HEAD
   ]
  },
  {
   "cell_type": "markdown",
   "metadata": {},
=======
   ],
   "outputs": [
    {
     "output_type": "stream",
     "name": "stdout",
     "text": [
      "Sequential(\n",
      "  (0): Linear(in_features=784, out_features=128, bias=True)\n",
      "  (1): ReLU()\n",
      "  (2): Linear(in_features=128, out_features=64, bias=True)\n",
      "  (3): ReLU()\n",
      "  (4): Linear(in_features=64, out_features=10, bias=True)\n",
      "  (5): Softmax(dim=1)\n",
      ")\n"
     ]
    },
    {
     "output_type": "display_data",
     "data": {
      "image/png": "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",
      "text/plain": [
       "<Figure size 432x648 with 2 Axes>"
      ]
     },
     "metadata": {
      "image/png": {
       "width": 424,
       "height": 235
      },
      "needs_background": "light"
     }
    }
   ],
   "metadata": {
    "collapsed": true
   }
  },
  {
   "cell_type": "markdown",
>>>>>>> 557fa63 (completed till sentiment analysis)
   "source": [
    "Here our model is the same as before: 784 input units, a hidden layer with 128 units, ReLU activation, 64 unit hidden layer, another ReLU, then the output layer with 10 units, and the softmax output.\n",
    "\n",
    "The operations are available by passing in the appropriate index. For example, if you want to get first Linear operation and look at the weights, you'd use `model[0]`."
<<<<<<< HEAD
   ]
  },
  {
   "cell_type": "code",
   "execution_count": null,
   "metadata": {
    "collapsed": true
   },
   "outputs": [],
   "source": [
    "print(model[0])\n",
    "model[0].weight"
   ]
  },
  {
   "cell_type": "markdown",
   "metadata": {},
   "source": [
    "You can also pass in an `OrderedDict` to name the individual layers and operations, instead of using incremental integers. Note that dictionary keys must be unique, so _each operation must have a different name_."
   ]
  },
  {
   "cell_type": "code",
   "execution_count": null,
   "metadata": {
    "collapsed": true
   },
   "outputs": [],
=======
   ],
   "metadata": {}
  },
  {
   "cell_type": "code",
   "execution_count": 39,
   "source": [
    "print(model[0])\n",
    "model[0].weight"
   ],
   "outputs": [
    {
     "output_type": "stream",
     "name": "stdout",
     "text": [
      "Linear(in_features=784, out_features=128, bias=True)\n"
     ]
    },
    {
     "output_type": "execute_result",
     "data": {
      "text/plain": [
       "Parameter containing:\n",
       "tensor([[ 0.0057, -0.0244, -0.0163,  ...,  0.0256, -0.0021,  0.0191],\n",
       "        [-0.0181,  0.0351,  0.0353,  ..., -0.0321,  0.0271,  0.0060],\n",
       "        [-0.0080, -0.0316, -0.0270,  ..., -0.0215, -0.0075,  0.0250],\n",
       "        ...,\n",
       "        [-0.0095,  0.0184, -0.0072,  ...,  0.0262, -0.0308, -0.0087],\n",
       "        [-0.0308, -0.0338,  0.0135,  ..., -0.0098,  0.0237,  0.0016],\n",
       "        [ 0.0155,  0.0250,  0.0273,  ...,  0.0183,  0.0350, -0.0152]],\n",
       "       requires_grad=True)"
      ]
     },
     "metadata": {},
     "execution_count": 39
    }
   ],
   "metadata": {
    "collapsed": true
   }
  },
  {
   "cell_type": "markdown",
   "source": [
    "You can also pass in an `OrderedDict` to name the individual layers and operations, instead of using incremental integers. Note that dictionary keys must be unique, so _each operation must have a different name_."
   ],
   "metadata": {}
  },
  {
   "cell_type": "code",
   "execution_count": 40,
>>>>>>> 557fa63 (completed till sentiment analysis)
   "source": [
    "from collections import OrderedDict\n",
    "model = nn.Sequential(OrderedDict([\n",
    "                      ('fc1', nn.Linear(input_size, hidden_sizes[0])),\n",
    "                      ('relu1', nn.ReLU()),\n",
    "                      ('fc2', nn.Linear(hidden_sizes[0], hidden_sizes[1])),\n",
    "                      ('relu2', nn.ReLU()),\n",
    "                      ('output', nn.Linear(hidden_sizes[1], output_size)),\n",
    "                      ('softmax', nn.Softmax(dim=1))]))\n",
    "model"
<<<<<<< HEAD
   ]
  },
  {
   "cell_type": "markdown",
   "metadata": {},
   "source": [
    "Now you can access layers either by integer or the name"
   ]
  },
  {
   "cell_type": "code",
   "execution_count": null,
   "metadata": {
    "collapsed": true
   },
   "outputs": [],
   "source": [
    "print(model[0])\n",
    "print(model.fc1)"
   ]
  },
  {
   "cell_type": "markdown",
   "metadata": {},
   "source": [
    "In the next notebook, we'll see how we can train a neural network to accuractly predict the numbers appearing in the MNIST images."
   ]
=======
   ],
   "outputs": [
    {
     "output_type": "execute_result",
     "data": {
      "text/plain": [
       "Sequential(\n",
       "  (fc1): Linear(in_features=784, out_features=128, bias=True)\n",
       "  (relu1): ReLU()\n",
       "  (fc2): Linear(in_features=128, out_features=64, bias=True)\n",
       "  (relu2): ReLU()\n",
       "  (output): Linear(in_features=64, out_features=10, bias=True)\n",
       "  (softmax): Softmax(dim=1)\n",
       ")"
      ]
     },
     "metadata": {},
     "execution_count": 40
    }
   ],
   "metadata": {
    "collapsed": true
   }
  },
  {
   "cell_type": "markdown",
   "source": [
    "Now you can access layers either by integer or the name"
   ],
   "metadata": {}
  },
  {
   "cell_type": "code",
   "execution_count": 41,
   "source": [
    "print(model[0])\n",
    "print(model.fc1)"
   ],
   "outputs": [
    {
     "output_type": "stream",
     "name": "stdout",
     "text": [
      "Linear(in_features=784, out_features=128, bias=True)\n",
      "Linear(in_features=784, out_features=128, bias=True)\n"
     ]
    }
   ],
   "metadata": {
    "collapsed": true
   }
  },
  {
   "cell_type": "markdown",
   "source": [
    "In the next notebook, we'll see how we can train a neural network to accuractly predict the numbers appearing in the MNIST images."
   ],
   "metadata": {}
>>>>>>> 557fa63 (completed till sentiment analysis)
  }
 ],
 "metadata": {
  "kernelspec": {
<<<<<<< HEAD
   "display_name": "Python [default]",
   "language": "python",
   "name": "python3"
=======
   "name": "python3",
   "display_name": "Python 3.8.10 64-bit ('venv': venv)"
>>>>>>> 557fa63 (completed till sentiment analysis)
  },
  "language_info": {
   "codemirror_mode": {
    "name": "ipython",
    "version": 3
   },
   "file_extension": ".py",
   "mimetype": "text/x-python",
   "name": "python",
   "nbconvert_exporter": "python",
   "pygments_lexer": "ipython3",
<<<<<<< HEAD
   "version": "3.6.4"
=======
   "version": "3.8.10"
  },
  "interpreter": {
   "hash": "6d0ce585ba42aaeb440d8bc31b1cfe4df4b28be41ad5aca95db481df065fbb3c"
>>>>>>> 557fa63 (completed till sentiment analysis)
  }
 },
 "nbformat": 4,
 "nbformat_minor": 2
<<<<<<< HEAD
}
=======
}
>>>>>>> 557fa63 (completed till sentiment analysis)

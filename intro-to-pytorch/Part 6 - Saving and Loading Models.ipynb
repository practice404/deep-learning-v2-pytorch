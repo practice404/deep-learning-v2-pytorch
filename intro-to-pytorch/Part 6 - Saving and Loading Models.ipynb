{
 "cells": [
  {
   "cell_type": "markdown",
<<<<<<< HEAD
   "metadata": {},
=======
>>>>>>> 557fa63 (completed till sentiment analysis)
   "source": [
    "# Saving and Loading Models\n",
    "\n",
    "In this notebook, I'll show you how to save and load models with PyTorch. This is important because you'll often want to load previously trained models to use in making predictions or to continue training on new data."
<<<<<<< HEAD
   ]
  },
  {
   "cell_type": "code",
   "execution_count": null,
   "metadata": {},
   "outputs": [],
=======
   ],
   "metadata": {}
  },
  {
   "cell_type": "code",
   "execution_count": 1,
>>>>>>> 557fa63 (completed till sentiment analysis)
   "source": [
    "%matplotlib inline\n",
    "%config InlineBackend.figure_format = 'retina'\n",
    "\n",
    "import matplotlib.pyplot as plt\n",
    "\n",
    "import torch\n",
    "from torch import nn\n",
    "from torch import optim\n",
    "import torch.nn.functional as F\n",
    "from torchvision import datasets, transforms\n",
    "\n",
    "import helper\n",
    "import fc_model"
<<<<<<< HEAD
   ]
  },
  {
   "cell_type": "code",
   "execution_count": null,
   "metadata": {},
   "outputs": [],
=======
   ],
   "outputs": [],
   "metadata": {}
  },
  {
   "cell_type": "code",
   "execution_count": 2,
>>>>>>> 557fa63 (completed till sentiment analysis)
   "source": [
    "# Define a transform to normalize the data\n",
    "transform = transforms.Compose([transforms.ToTensor(),\n",
    "                                transforms.Normalize((0.5,), (0.5,))])\n",
    "# Download and load the training data\n",
    "trainset = datasets.FashionMNIST('~/.pytorch/F_MNIST_data/', download=True, train=True, transform=transform)\n",
    "trainloader = torch.utils.data.DataLoader(trainset, batch_size=64, shuffle=True)\n",
    "\n",
    "# Download and load the test data\n",
    "testset = datasets.FashionMNIST('~/.pytorch/F_MNIST_data/', download=True, train=False, transform=transform)\n",
    "testloader = torch.utils.data.DataLoader(testset, batch_size=64, shuffle=True)"
<<<<<<< HEAD
   ]
  },
  {
   "cell_type": "markdown",
   "metadata": {},
   "source": [
    "Here we can see one of the images."
   ]
  },
  {
   "cell_type": "code",
   "execution_count": 12,
   "metadata": {},
   "outputs": [
    {
     "data": {
      "image/png": "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\n",
=======
   ],
   "outputs": [
    {
     "output_type": "stream",
     "name": "stderr",
     "text": [
      "/Users/swayam/Desktop/deep-learning-v2-pytorch/venv/lib/python3.8/site-packages/torchvision/datasets/mnist.py:498: UserWarning: The given NumPy array is not writeable, and PyTorch does not support non-writeable tensors. This means you can write to the underlying (supposedly non-writeable) NumPy array using the tensor. You may want to copy the array to protect its data or make it writeable before converting it to a tensor. This type of warning will be suppressed for the rest of this program. (Triggered internally at  ../torch/csrc/utils/tensor_numpy.cpp:180.)\n",
      "  return torch.from_numpy(parsed.astype(m[2], copy=False)).view(*s)\n"
     ]
    }
   ],
   "metadata": {}
  },
  {
   "cell_type": "markdown",
   "source": [
    "Here we can see one of the images."
   ],
   "metadata": {}
  },
  {
   "cell_type": "code",
   "execution_count": 3,
   "source": [
    "image, label = next(iter(trainloader))\n",
    "helper.imshow(image[0,:]);"
   ],
   "outputs": [
    {
     "output_type": "display_data",
     "data": {
      "image/png": "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",
>>>>>>> 557fa63 (completed till sentiment analysis)
      "text/plain": [
       "<Figure size 432x288 with 1 Axes>"
      ]
     },
     "metadata": {
      "image/png": {
<<<<<<< HEAD
       "height": 233,
       "width": 233
      },
      "needs_background": "light"
     },
     "output_type": "display_data"
    }
   ],
   "source": [
    "image, label = next(iter(trainloader))\n",
    "helper.imshow(image[0,:]);"
   ]
  },
  {
   "cell_type": "markdown",
   "metadata": {},
=======
       "width": 231,
       "height": 231
      },
      "needs_background": "light"
     }
    }
   ],
   "metadata": {}
  },
  {
   "cell_type": "markdown",
>>>>>>> 557fa63 (completed till sentiment analysis)
   "source": [
    "# Train a network\n",
    "\n",
    "To make things more concise here, I moved the model architecture and training code from the last part to a file called `fc_model`. Importing this, we can easily create a fully-connected network with `fc_model.Network`, and train the network using `fc_model.train`. I'll use this model (once it's trained) to demonstrate how we can save and load models."
<<<<<<< HEAD
   ]
  },
  {
   "cell_type": "code",
   "execution_count": null,
   "metadata": {},
   "outputs": [],
=======
   ],
   "metadata": {}
  },
  {
   "cell_type": "code",
   "execution_count": 4,
>>>>>>> 557fa63 (completed till sentiment analysis)
   "source": [
    "# Create the network, define the criterion and optimizer\n",
    "\n",
    "model = fc_model.Network(784, 10, [512, 256, 128])\n",
    "criterion = nn.NLLLoss()\n",
    "optimizer = optim.Adam(model.parameters(), lr=0.001)"
<<<<<<< HEAD
   ]
  },
  {
   "cell_type": "code",
   "execution_count": null,
   "metadata": {},
   "outputs": [],
   "source": [
    "fc_model.train(model, trainloader, testloader, criterion, optimizer, epochs=2)"
   ]
  },
  {
   "cell_type": "markdown",
   "metadata": {},
=======
   ],
   "outputs": [],
   "metadata": {}
  },
  {
   "cell_type": "code",
   "execution_count": 5,
   "source": [
    "fc_model.train(model, trainloader, testloader, criterion, optimizer, epochs=2)"
   ],
   "outputs": [
    {
     "output_type": "stream",
     "name": "stdout",
     "text": [
      "Epoch: 1/2..  Training Loss: 1.687..  Test Loss: 0.983..  Test Accuracy: 0.648\n",
      "Epoch: 1/2..  Training Loss: 1.029..  Test Loss: 0.727..  Test Accuracy: 0.709\n",
      "Epoch: 1/2..  Training Loss: 0.858..  Test Loss: 0.692..  Test Accuracy: 0.711\n",
      "Epoch: 1/2..  Training Loss: 0.816..  Test Loss: 0.678..  Test Accuracy: 0.741\n",
      "Epoch: 1/2..  Training Loss: 0.767..  Test Loss: 0.632..  Test Accuracy: 0.746\n",
      "Epoch: 1/2..  Training Loss: 0.706..  Test Loss: 0.598..  Test Accuracy: 0.764\n",
      "Epoch: 1/2..  Training Loss: 0.668..  Test Loss: 0.581..  Test Accuracy: 0.772\n",
      "Epoch: 1/2..  Training Loss: 0.704..  Test Loss: 0.570..  Test Accuracy: 0.790\n",
      "Epoch: 1/2..  Training Loss: 0.618..  Test Loss: 0.570..  Test Accuracy: 0.780\n",
      "Epoch: 1/2..  Training Loss: 0.639..  Test Loss: 0.555..  Test Accuracy: 0.792\n",
      "Epoch: 1/2..  Training Loss: 0.637..  Test Loss: 0.538..  Test Accuracy: 0.796\n",
      "Epoch: 1/2..  Training Loss: 0.622..  Test Loss: 0.536..  Test Accuracy: 0.798\n",
      "Epoch: 1/2..  Training Loss: 0.618..  Test Loss: 0.546..  Test Accuracy: 0.802\n",
      "Epoch: 1/2..  Training Loss: 0.598..  Test Loss: 0.512..  Test Accuracy: 0.804\n",
      "Epoch: 1/2..  Training Loss: 0.590..  Test Loss: 0.516..  Test Accuracy: 0.809\n",
      "Epoch: 1/2..  Training Loss: 0.632..  Test Loss: 0.506..  Test Accuracy: 0.815\n",
      "Epoch: 1/2..  Training Loss: 0.635..  Test Loss: 0.507..  Test Accuracy: 0.812\n",
      "Epoch: 1/2..  Training Loss: 0.604..  Test Loss: 0.489..  Test Accuracy: 0.816\n",
      "Epoch: 1/2..  Training Loss: 0.598..  Test Loss: 0.494..  Test Accuracy: 0.819\n",
      "Epoch: 1/2..  Training Loss: 0.567..  Test Loss: 0.501..  Test Accuracy: 0.816\n",
      "Epoch: 1/2..  Training Loss: 0.600..  Test Loss: 0.497..  Test Accuracy: 0.817\n",
      "Epoch: 1/2..  Training Loss: 0.560..  Test Loss: 0.535..  Test Accuracy: 0.791\n",
      "Epoch: 1/2..  Training Loss: 0.532..  Test Loss: 0.487..  Test Accuracy: 0.820\n",
      "Epoch: 2/2..  Training Loss: 0.528..  Test Loss: 0.484..  Test Accuracy: 0.826\n",
      "Epoch: 2/2..  Training Loss: 0.506..  Test Loss: 0.481..  Test Accuracy: 0.822\n",
      "Epoch: 2/2..  Training Loss: 0.579..  Test Loss: 0.485..  Test Accuracy: 0.823\n",
      "Epoch: 2/2..  Training Loss: 0.534..  Test Loss: 0.480..  Test Accuracy: 0.819\n",
      "Epoch: 2/2..  Training Loss: 0.561..  Test Loss: 0.469..  Test Accuracy: 0.828\n",
      "Epoch: 2/2..  Training Loss: 0.562..  Test Loss: 0.478..  Test Accuracy: 0.825\n",
      "Epoch: 2/2..  Training Loss: 0.559..  Test Loss: 0.460..  Test Accuracy: 0.832\n",
      "Epoch: 2/2..  Training Loss: 0.496..  Test Loss: 0.454..  Test Accuracy: 0.833\n",
      "Epoch: 2/2..  Training Loss: 0.534..  Test Loss: 0.458..  Test Accuracy: 0.833\n",
      "Epoch: 2/2..  Training Loss: 0.581..  Test Loss: 0.474..  Test Accuracy: 0.829\n",
      "Epoch: 2/2..  Training Loss: 0.540..  Test Loss: 0.472..  Test Accuracy: 0.832\n",
      "Epoch: 2/2..  Training Loss: 0.538..  Test Loss: 0.459..  Test Accuracy: 0.835\n",
      "Epoch: 2/2..  Training Loss: 0.531..  Test Loss: 0.448..  Test Accuracy: 0.843\n",
      "Epoch: 2/2..  Training Loss: 0.551..  Test Loss: 0.455..  Test Accuracy: 0.832\n",
      "Epoch: 2/2..  Training Loss: 0.519..  Test Loss: 0.468..  Test Accuracy: 0.830\n",
      "Epoch: 2/2..  Training Loss: 0.507..  Test Loss: 0.450..  Test Accuracy: 0.834\n",
      "Epoch: 2/2..  Training Loss: 0.508..  Test Loss: 0.445..  Test Accuracy: 0.835\n",
      "Epoch: 2/2..  Training Loss: 0.550..  Test Loss: 0.448..  Test Accuracy: 0.839\n",
      "Epoch: 2/2..  Training Loss: 0.524..  Test Loss: 0.454..  Test Accuracy: 0.836\n",
      "Epoch: 2/2..  Training Loss: 0.525..  Test Loss: 0.445..  Test Accuracy: 0.834\n",
      "Epoch: 2/2..  Training Loss: 0.514..  Test Loss: 0.470..  Test Accuracy: 0.828\n",
      "Epoch: 2/2..  Training Loss: 0.529..  Test Loss: 0.442..  Test Accuracy: 0.837\n",
      "Epoch: 2/2..  Training Loss: 0.540..  Test Loss: 0.451..  Test Accuracy: 0.833\n"
     ]
    }
   ],
   "metadata": {}
  },
  {
   "cell_type": "markdown",
>>>>>>> 557fa63 (completed till sentiment analysis)
   "source": [
    "## Saving and loading networks\n",
    "\n",
    "As you can imagine, it's impractical to train a network every time you need to use it. Instead, we can save trained networks then load them later to train more or use them for predictions.\n",
    "\n",
    "The parameters for PyTorch networks are stored in a model's `state_dict`. We can see the state dict contains the weight and bias matrices for each of our layers."
<<<<<<< HEAD
   ]
  },
  {
   "cell_type": "code",
   "execution_count": null,
   "metadata": {},
   "outputs": [],
   "source": [
    "print(\"Our model: \\n\\n\", model, '\\n')\n",
    "print(\"The state dict keys: \\n\\n\", model.state_dict().keys())"
   ]
  },
  {
   "cell_type": "markdown",
   "metadata": {},
   "source": [
    "The simplest thing to do is simply save the state dict with `torch.save`. For example, we can save it to a file `'checkpoint.pth'`."
   ]
  },
  {
   "cell_type": "code",
   "execution_count": null,
   "metadata": {},
   "outputs": [],
   "source": [
    "torch.save(model.state_dict(), 'checkpoint.pth')"
   ]
  },
  {
   "cell_type": "markdown",
   "metadata": {},
   "source": [
    "Then we can load the state dict with `torch.load`."
   ]
  },
  {
   "cell_type": "code",
   "execution_count": null,
   "metadata": {},
   "outputs": [],
   "source": [
    "state_dict = torch.load('checkpoint.pth')\n",
    "print(state_dict.keys())"
   ]
  },
  {
   "cell_type": "markdown",
   "metadata": {},
   "source": [
    "And to load the state dict in to the network, you do `model.load_state_dict(state_dict)`."
   ]
  },
  {
   "cell_type": "code",
   "execution_count": null,
   "metadata": {},
   "outputs": [],
   "source": [
    "model.load_state_dict(state_dict)"
   ]
  },
  {
   "cell_type": "markdown",
   "metadata": {},
   "source": [
    "Seems pretty straightforward, but as usual it's a bit more complicated. Loading the state dict works only if the model architecture is exactly the same as the checkpoint architecture. If I create a model with a different architecture, this fails."
   ]
  },
  {
   "cell_type": "code",
   "execution_count": null,
   "metadata": {},
   "outputs": [],
=======
   ],
   "metadata": {}
  },
  {
   "cell_type": "code",
   "execution_count": 6,
   "source": [
    "print(\"Our model: \\n\\n\", model, '\\n')\n",
    "print(\"The state dict keys: \\n\\n\", model.state_dict().keys())"
   ],
   "outputs": [
    {
     "output_type": "stream",
     "name": "stdout",
     "text": [
      "Our model: \n",
      "\n",
      " Network(\n",
      "  (hidden_layers): ModuleList(\n",
      "    (0): Linear(in_features=784, out_features=512, bias=True)\n",
      "    (1): Linear(in_features=512, out_features=256, bias=True)\n",
      "    (2): Linear(in_features=256, out_features=128, bias=True)\n",
      "  )\n",
      "  (output): Linear(in_features=128, out_features=10, bias=True)\n",
      "  (dropout): Dropout(p=0.5, inplace=False)\n",
      ") \n",
      "\n",
      "The state dict keys: \n",
      "\n",
      " odict_keys(['hidden_layers.0.weight', 'hidden_layers.0.bias', 'hidden_layers.1.weight', 'hidden_layers.1.bias', 'hidden_layers.2.weight', 'hidden_layers.2.bias', 'output.weight', 'output.bias'])\n"
     ]
    }
   ],
   "metadata": {}
  },
  {
   "cell_type": "markdown",
   "source": [
    "The simplest thing to do is simply save the state dict with `torch.save`. For example, we can save it to a file `'checkpoint.pth'`."
   ],
   "metadata": {}
  },
  {
   "cell_type": "code",
   "execution_count": 7,
   "source": [
    "torch.save(model.state_dict(), 'checkpoint.pth')"
   ],
   "outputs": [],
   "metadata": {}
  },
  {
   "cell_type": "markdown",
   "source": [
    "Then we can load the state dict with `torch.load`."
   ],
   "metadata": {}
  },
  {
   "cell_type": "code",
   "execution_count": 8,
   "source": [
    "state_dict = torch.load('checkpoint.pth')\n",
    "print(state_dict.keys())"
   ],
   "outputs": [
    {
     "output_type": "stream",
     "name": "stdout",
     "text": [
      "odict_keys(['hidden_layers.0.weight', 'hidden_layers.0.bias', 'hidden_layers.1.weight', 'hidden_layers.1.bias', 'hidden_layers.2.weight', 'hidden_layers.2.bias', 'output.weight', 'output.bias'])\n"
     ]
    }
   ],
   "metadata": {}
  },
  {
   "cell_type": "markdown",
   "source": [
    "And to load the state dict in to the network, you do `model.load_state_dict(state_dict)`."
   ],
   "metadata": {}
  },
  {
   "cell_type": "code",
   "execution_count": 9,
   "source": [
    "model.load_state_dict(state_dict)"
   ],
   "outputs": [
    {
     "output_type": "execute_result",
     "data": {
      "text/plain": [
       "<All keys matched successfully>"
      ]
     },
     "metadata": {},
     "execution_count": 9
    }
   ],
   "metadata": {}
  },
  {
   "cell_type": "markdown",
   "source": [
    "Seems pretty straightforward, but as usual it's a bit more complicated. Loading the state dict works only if the model architecture is exactly the same as the checkpoint architecture. If I create a model with a different architecture, this fails."
   ],
   "metadata": {}
  },
  {
   "cell_type": "code",
   "execution_count": 10,
>>>>>>> 557fa63 (completed till sentiment analysis)
   "source": [
    "# Try this\n",
    "model = fc_model.Network(784, 10, [400, 200, 100])\n",
    "# This will throw an error because the tensor sizes are wrong!\n",
    "model.load_state_dict(state_dict)"
<<<<<<< HEAD
   ]
  },
  {
   "cell_type": "markdown",
   "metadata": {},
   "source": [
    "This means we need to rebuild the model exactly as it was when trained. Information about the model architecture needs to be saved in the checkpoint, along with the state dict. To do this, you build a dictionary with all the information you need to compeletely rebuild the model."
   ]
  },
  {
   "cell_type": "code",
   "execution_count": null,
   "metadata": {},
   "outputs": [],
=======
   ],
   "outputs": [
    {
     "output_type": "error",
     "ename": "RuntimeError",
     "evalue": "Error(s) in loading state_dict for Network:\n\tsize mismatch for hidden_layers.0.weight: copying a param with shape torch.Size([512, 784]) from checkpoint, the shape in current model is torch.Size([400, 784]).\n\tsize mismatch for hidden_layers.0.bias: copying a param with shape torch.Size([512]) from checkpoint, the shape in current model is torch.Size([400]).\n\tsize mismatch for hidden_layers.1.weight: copying a param with shape torch.Size([256, 512]) from checkpoint, the shape in current model is torch.Size([200, 400]).\n\tsize mismatch for hidden_layers.1.bias: copying a param with shape torch.Size([256]) from checkpoint, the shape in current model is torch.Size([200]).\n\tsize mismatch for hidden_layers.2.weight: copying a param with shape torch.Size([128, 256]) from checkpoint, the shape in current model is torch.Size([100, 200]).\n\tsize mismatch for hidden_layers.2.bias: copying a param with shape torch.Size([128]) from checkpoint, the shape in current model is torch.Size([100]).\n\tsize mismatch for output.weight: copying a param with shape torch.Size([10, 128]) from checkpoint, the shape in current model is torch.Size([10, 100]).",
     "traceback": [
      "\u001b[0;31m---------------------------------------------------------------------------\u001b[0m",
      "\u001b[0;31mRuntimeError\u001b[0m                              Traceback (most recent call last)",
      "\u001b[0;32m/var/folders/_v/bhr29ckd759fkz4gv9xgp72w0000gn/T/ipykernel_18266/1721305045.py\u001b[0m in \u001b[0;36m<module>\u001b[0;34m\u001b[0m\n\u001b[1;32m      2\u001b[0m \u001b[0mmodel\u001b[0m \u001b[0;34m=\u001b[0m \u001b[0mfc_model\u001b[0m\u001b[0;34m.\u001b[0m\u001b[0mNetwork\u001b[0m\u001b[0;34m(\u001b[0m\u001b[0;36m784\u001b[0m\u001b[0;34m,\u001b[0m \u001b[0;36m10\u001b[0m\u001b[0;34m,\u001b[0m \u001b[0;34m[\u001b[0m\u001b[0;36m400\u001b[0m\u001b[0;34m,\u001b[0m \u001b[0;36m200\u001b[0m\u001b[0;34m,\u001b[0m \u001b[0;36m100\u001b[0m\u001b[0;34m]\u001b[0m\u001b[0;34m)\u001b[0m\u001b[0;34m\u001b[0m\u001b[0;34m\u001b[0m\u001b[0m\n\u001b[1;32m      3\u001b[0m \u001b[0;31m# This will throw an error because the tensor sizes are wrong!\u001b[0m\u001b[0;34m\u001b[0m\u001b[0;34m\u001b[0m\u001b[0;34m\u001b[0m\u001b[0m\n\u001b[0;32m----> 4\u001b[0;31m \u001b[0mmodel\u001b[0m\u001b[0;34m.\u001b[0m\u001b[0mload_state_dict\u001b[0m\u001b[0;34m(\u001b[0m\u001b[0mstate_dict\u001b[0m\u001b[0;34m)\u001b[0m\u001b[0;34m\u001b[0m\u001b[0;34m\u001b[0m\u001b[0m\n\u001b[0m",
      "\u001b[0;32m~/Desktop/deep-learning-v2-pytorch/venv/lib/python3.8/site-packages/torch/nn/modules/module.py\u001b[0m in \u001b[0;36mload_state_dict\u001b[0;34m(self, state_dict, strict)\u001b[0m\n\u001b[1;32m   1404\u001b[0m \u001b[0;34m\u001b[0m\u001b[0m\n\u001b[1;32m   1405\u001b[0m         \u001b[0;32mif\u001b[0m \u001b[0mlen\u001b[0m\u001b[0;34m(\u001b[0m\u001b[0merror_msgs\u001b[0m\u001b[0;34m)\u001b[0m \u001b[0;34m>\u001b[0m \u001b[0;36m0\u001b[0m\u001b[0;34m:\u001b[0m\u001b[0;34m\u001b[0m\u001b[0;34m\u001b[0m\u001b[0m\n\u001b[0;32m-> 1406\u001b[0;31m             raise RuntimeError('Error(s) in loading state_dict for {}:\\n\\t{}'.format(\n\u001b[0m\u001b[1;32m   1407\u001b[0m                                self.__class__.__name__, \"\\n\\t\".join(error_msgs)))\n\u001b[1;32m   1408\u001b[0m         \u001b[0;32mreturn\u001b[0m \u001b[0m_IncompatibleKeys\u001b[0m\u001b[0;34m(\u001b[0m\u001b[0mmissing_keys\u001b[0m\u001b[0;34m,\u001b[0m \u001b[0munexpected_keys\u001b[0m\u001b[0;34m)\u001b[0m\u001b[0;34m\u001b[0m\u001b[0;34m\u001b[0m\u001b[0m\n",
      "\u001b[0;31mRuntimeError\u001b[0m: Error(s) in loading state_dict for Network:\n\tsize mismatch for hidden_layers.0.weight: copying a param with shape torch.Size([512, 784]) from checkpoint, the shape in current model is torch.Size([400, 784]).\n\tsize mismatch for hidden_layers.0.bias: copying a param with shape torch.Size([512]) from checkpoint, the shape in current model is torch.Size([400]).\n\tsize mismatch for hidden_layers.1.weight: copying a param with shape torch.Size([256, 512]) from checkpoint, the shape in current model is torch.Size([200, 400]).\n\tsize mismatch for hidden_layers.1.bias: copying a param with shape torch.Size([256]) from checkpoint, the shape in current model is torch.Size([200]).\n\tsize mismatch for hidden_layers.2.weight: copying a param with shape torch.Size([128, 256]) from checkpoint, the shape in current model is torch.Size([100, 200]).\n\tsize mismatch for hidden_layers.2.bias: copying a param with shape torch.Size([128]) from checkpoint, the shape in current model is torch.Size([100]).\n\tsize mismatch for output.weight: copying a param with shape torch.Size([10, 128]) from checkpoint, the shape in current model is torch.Size([10, 100])."
     ]
    }
   ],
   "metadata": {}
  },
  {
   "cell_type": "markdown",
   "source": [
    "This means we need to rebuild the model exactly as it was when trained. Information about the model architecture needs to be saved in the checkpoint, along with the state dict. To do this, you build a dictionary with all the information you need to compeletely rebuild the model."
   ],
   "metadata": {}
  },
  {
   "cell_type": "code",
   "execution_count": 11,
>>>>>>> 557fa63 (completed till sentiment analysis)
   "source": [
    "checkpoint = {'input_size': 784,\n",
    "              'output_size': 10,\n",
    "              'hidden_layers': [each.out_features for each in model.hidden_layers],\n",
    "              'state_dict': model.state_dict()}\n",
    "\n",
    "torch.save(checkpoint, 'checkpoint.pth')"
<<<<<<< HEAD
   ]
  },
  {
   "cell_type": "markdown",
   "metadata": {},
   "source": [
    "Now the checkpoint has all the necessary information to rebuild the trained model. You can easily make that a function if you want. Similarly, we can write a function to load checkpoints. "
   ]
  },
  {
   "cell_type": "code",
   "execution_count": null,
   "metadata": {},
   "outputs": [],
=======
   ],
   "outputs": [],
   "metadata": {}
  },
  {
   "cell_type": "markdown",
   "source": [
    "Now the checkpoint has all the necessary information to rebuild the trained model. You can easily make that a function if you want. Similarly, we can write a function to load checkpoints. "
   ],
   "metadata": {}
  },
  {
   "cell_type": "code",
   "execution_count": 12,
>>>>>>> 557fa63 (completed till sentiment analysis)
   "source": [
    "def load_checkpoint(filepath):\n",
    "    checkpoint = torch.load(filepath)\n",
    "    model = fc_model.Network(checkpoint['input_size'],\n",
    "                             checkpoint['output_size'],\n",
    "                             checkpoint['hidden_layers'])\n",
    "    model.load_state_dict(checkpoint['state_dict'])\n",
    "    \n",
    "    return model"
<<<<<<< HEAD
   ]
  },
  {
   "cell_type": "code",
   "execution_count": null,
   "metadata": {},
   "outputs": [],
   "source": [
    "model = load_checkpoint('checkpoint.pth')\n",
    "print(model)"
   ]
  }
 ],
 "metadata": {
  "kernelspec": {
   "display_name": "Python 3",
   "language": "python",
   "name": "python3"
=======
   ],
   "outputs": [],
   "metadata": {}
  },
  {
   "cell_type": "code",
   "execution_count": 13,
   "source": [
    "model = load_checkpoint('checkpoint.pth')\n",
    "print(model)"
   ],
   "outputs": [
    {
     "output_type": "stream",
     "name": "stdout",
     "text": [
      "Network(\n",
      "  (hidden_layers): ModuleList(\n",
      "    (0): Linear(in_features=784, out_features=400, bias=True)\n",
      "    (1): Linear(in_features=400, out_features=200, bias=True)\n",
      "    (2): Linear(in_features=200, out_features=100, bias=True)\n",
      "  )\n",
      "  (output): Linear(in_features=100, out_features=10, bias=True)\n",
      "  (dropout): Dropout(p=0.5, inplace=False)\n",
      ")\n"
     ]
    }
   ],
   "metadata": {}
  }
 ],
 "metadata": {
  "interpreter": {
   "hash": "6d0ce585ba42aaeb440d8bc31b1cfe4df4b28be41ad5aca95db481df065fbb3c"
  },
  "kernelspec": {
   "name": "python3",
   "display_name": "Python 3.8.10 64-bit ('venv': venv)"
>>>>>>> 557fa63 (completed till sentiment analysis)
  },
  "language_info": {
   "codemirror_mode": {
    "name": "ipython",
    "version": 3
   },
   "file_extension": ".py",
   "mimetype": "text/x-python",
   "name": "python",
   "nbconvert_exporter": "python",
   "pygments_lexer": "ipython3",
<<<<<<< HEAD
   "version": "3.6.6"
=======
   "version": "3.8.10"
>>>>>>> 557fa63 (completed till sentiment analysis)
  }
 },
 "nbformat": 4,
 "nbformat_minor": 2
<<<<<<< HEAD
}
=======
}
>>>>>>> 557fa63 (completed till sentiment analysis)

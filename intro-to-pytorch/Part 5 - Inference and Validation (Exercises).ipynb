{
 "cells": [
  {
   "cell_type": "markdown",
<<<<<<< HEAD
   "metadata": {},
=======
>>>>>>> 557fa63 (completed till sentiment analysis)
   "source": [
    "# Inference and Validation\n",
    "\n",
    "Now that you have a trained network, you can use it for making predictions. This is typically called **inference**, a term borrowed from statistics. However, neural networks have a tendency to perform *too well* on the training data and aren't able to generalize to data that hasn't been seen before. This is called **overfitting** and it impairs inference performance. To test for overfitting while training, we measure the performance on data not in the training set called the **validation** set. We avoid overfitting through regularization such as dropout while monitoring the validation performance during training. In this notebook, I'll show you how to do this in PyTorch. \n",
    "\n",
    "As usual, let's start by loading the dataset through torchvision. You'll learn more about torchvision and loading data in a later part. This time we'll be taking advantage of the test set which you can get by setting `train=False` here:\n",
    "\n",
    "```python\n",
    "testset = datasets.FashionMNIST('~/.pytorch/F_MNIST_data/', download=True, train=False, transform=transform)\n",
    "```\n",
    "\n",
    "The test set contains images just like the training set. Typically you'll see 10-20% of the original dataset held out for testing and validation with the rest being used for training."
<<<<<<< HEAD
   ]
  },
  {
   "cell_type": "code",
   "execution_count": 2,
   "metadata": {},
   "outputs": [],
=======
   ],
   "metadata": {}
  },
  {
   "cell_type": "code",
   "execution_count": 1,
>>>>>>> 557fa63 (completed till sentiment analysis)
   "source": [
    "import torch\n",
    "from torchvision import datasets, transforms\n",
    "\n",
    "# Define a transform to normalize the data\n",
    "transform = transforms.Compose([transforms.ToTensor(),\n",
    "                                transforms.Normalize((0.5,), (0.5,))])\n",
    "# Download and load the training data\n",
    "trainset = datasets.FashionMNIST('~/.pytorch/F_MNIST_data/', download=True, train=True, transform=transform)\n",
    "trainloader = torch.utils.data.DataLoader(trainset, batch_size=64, shuffle=True)\n",
    "\n",
    "# Download and load the test data\n",
    "testset = datasets.FashionMNIST('~/.pytorch/F_MNIST_data/', download=True, train=False, transform=transform)\n",
    "testloader = torch.utils.data.DataLoader(testset, batch_size=64, shuffle=True)"
<<<<<<< HEAD
   ]
  },
  {
   "cell_type": "markdown",
   "metadata": {},
   "source": [
    "Here I'll create a model like normal, using the same one from my solution for part 4."
   ]
  },
  {
   "cell_type": "code",
   "execution_count": 15,
   "metadata": {},
   "outputs": [],
=======
   ],
   "outputs": [
    {
     "output_type": "stream",
     "name": "stderr",
     "text": [
      "/Users/swayam/Desktop/deep-learning-v2-pytorch/venv/lib/python3.8/site-packages/torchvision/datasets/mnist.py:498: UserWarning: The given NumPy array is not writeable, and PyTorch does not support non-writeable tensors. This means you can write to the underlying (supposedly non-writeable) NumPy array using the tensor. You may want to copy the array to protect its data or make it writeable before converting it to a tensor. This type of warning will be suppressed for the rest of this program. (Triggered internally at  ../torch/csrc/utils/tensor_numpy.cpp:180.)\n",
      "  return torch.from_numpy(parsed.astype(m[2], copy=False)).view(*s)\n"
     ]
    }
   ],
   "metadata": {}
  },
  {
   "cell_type": "markdown",
   "source": [
    "Here I'll create a model like normal, using the same one from my solution for part 4."
   ],
   "metadata": {}
  },
  {
   "cell_type": "code",
   "execution_count": 2,
>>>>>>> 557fa63 (completed till sentiment analysis)
   "source": [
    "from torch import nn, optim\n",
    "import torch.nn.functional as F\n",
    "\n",
    "class Classifier(nn.Module):\n",
    "    def __init__(self):\n",
    "        super().__init__()\n",
    "        self.fc1 = nn.Linear(784, 256)\n",
    "        self.fc2 = nn.Linear(256, 128)\n",
    "        self.fc3 = nn.Linear(128, 64)\n",
    "        self.fc4 = nn.Linear(64, 10)\n",
    "        \n",
    "    def forward(self, x):\n",
    "        # make sure input tensor is flattened\n",
    "        x = x.view(x.shape[0], -1)\n",
    "        \n",
    "        x = F.relu(self.fc1(x))\n",
    "        x = F.relu(self.fc2(x))\n",
    "        x = F.relu(self.fc3(x))\n",
    "        x = F.log_softmax(self.fc4(x), dim=1)\n",
    "        \n",
    "        return x"
<<<<<<< HEAD
   ]
  },
  {
   "cell_type": "markdown",
   "metadata": {},
   "source": [
    "The goal of validation is to measure the model's performance on data that isn't part of the training set. Performance here is up to the developer to define though. Typically this is just accuracy, the percentage of classes the network predicted correctly. Other options are [precision and recall](https://en.wikipedia.org/wiki/Precision_and_recall#Definition_(classification_context)) and top-5 error rate. We'll focus on accuracy here. First I'll do a forward pass with one batch from the test set."
   ]
  },
  {
   "cell_type": "code",
   "execution_count": 4,
   "metadata": {},
   "outputs": [
    {
     "name": "stdout",
     "output_type": "stream",
=======
   ],
   "outputs": [],
   "metadata": {}
  },
  {
   "cell_type": "markdown",
   "source": [
    "The goal of validation is to measure the model's performance on data that isn't part of the training set. Performance here is up to the developer to define though. Typically this is just accuracy, the percentage of classes the network predicted correctly. Other options are [precision and recall](https://en.wikipedia.org/wiki/Precision_and_recall#Definition_(classification_context)) and top-5 error rate. We'll focus on accuracy here. First I'll do a forward pass with one batch from the test set."
   ],
   "metadata": {}
  },
  {
   "cell_type": "code",
   "execution_count": 3,
   "source": [
    "model = Classifier()\n",
    "\n",
    "images, labels = next(iter(testloader))\n",
    "# Get the class probabilities\n",
    "ps = torch.exp(model(images))\n",
    "# Make sure the shape is appropriate, we should get 10 class probabilities for 64 examples\n",
    "print(ps.shape)"
   ],
   "outputs": [
    {
     "output_type": "stream",
     "name": "stdout",
>>>>>>> 557fa63 (completed till sentiment analysis)
     "text": [
      "torch.Size([64, 10])\n"
     ]
    }
   ],
<<<<<<< HEAD
   "source": [
    "model = Classifier()\n",
    "\n",
    "images, labels = next(iter(testloader))\n",
    "# Get the class probabilities\n",
    "ps = torch.exp(model(images))\n",
    "# Make sure the shape is appropriate, we should get 10 class probabilities for 64 examples\n",
    "print(ps.shape)"
   ]
  },
  {
   "cell_type": "markdown",
   "metadata": {},
   "source": [
    "With the probabilities, we can get the most likely class using the `ps.topk` method. This returns the $k$ highest values. Since we just want the most likely class, we can use `ps.topk(1)`. This returns a tuple of the top-$k$ values and the top-$k$ indices. If the highest value is the fifth element, we'll get back 4 as the index."
   ]
=======
   "metadata": {}
  },
  {
   "cell_type": "code",
   "execution_count": 4,
   "source": [
    "ps"
   ],
   "outputs": [
    {
     "output_type": "execute_result",
     "data": {
      "text/plain": [
       "tensor([[0.0863, 0.0979, 0.1014, 0.1012, 0.0958, 0.0986, 0.1021, 0.0944, 0.1053,\n",
       "         0.1171],\n",
       "        [0.0824, 0.0984, 0.1003, 0.1066, 0.0923, 0.0981, 0.1027, 0.0965, 0.1089,\n",
       "         0.1139],\n",
       "        [0.0836, 0.0980, 0.1026, 0.1046, 0.0917, 0.0993, 0.1044, 0.0940, 0.1058,\n",
       "         0.1160],\n",
       "        [0.0833, 0.0977, 0.1015, 0.1044, 0.0938, 0.0987, 0.1021, 0.0956, 0.1078,\n",
       "         0.1151],\n",
       "        [0.0851, 0.0989, 0.1017, 0.1033, 0.0930, 0.0985, 0.1040, 0.0969, 0.1054,\n",
       "         0.1132],\n",
       "        [0.0850, 0.0955, 0.1035, 0.1033, 0.0953, 0.0984, 0.1049, 0.0948, 0.1062,\n",
       "         0.1131],\n",
       "        [0.0822, 0.0984, 0.1014, 0.1080, 0.0917, 0.0986, 0.1007, 0.0934, 0.1091,\n",
       "         0.1165],\n",
       "        [0.0839, 0.0977, 0.1012, 0.1063, 0.0938, 0.0984, 0.1004, 0.0953, 0.1073,\n",
       "         0.1157],\n",
       "        [0.0846, 0.0963, 0.1046, 0.1048, 0.0926, 0.0971, 0.1039, 0.0948, 0.1066,\n",
       "         0.1147],\n",
       "        [0.0843, 0.0983, 0.0990, 0.1073, 0.0943, 0.0986, 0.1014, 0.0943, 0.1063,\n",
       "         0.1161],\n",
       "        [0.0831, 0.0998, 0.1024, 0.1034, 0.0947, 0.0981, 0.1029, 0.0941, 0.1056,\n",
       "         0.1160],\n",
       "        [0.0855, 0.0979, 0.1013, 0.1038, 0.0928, 0.0982, 0.1033, 0.0955, 0.1063,\n",
       "         0.1154],\n",
       "        [0.0849, 0.0968, 0.1037, 0.1036, 0.0948, 0.0997, 0.1020, 0.0945, 0.1050,\n",
       "         0.1150],\n",
       "        [0.0843, 0.1005, 0.0986, 0.1059, 0.0949, 0.0971, 0.1033, 0.0960, 0.1051,\n",
       "         0.1142],\n",
       "        [0.0833, 0.0971, 0.1049, 0.1052, 0.0936, 0.0990, 0.1038, 0.0918, 0.1067,\n",
       "         0.1146],\n",
       "        [0.0829, 0.0996, 0.1014, 0.1074, 0.0926, 0.0984, 0.0991, 0.0954, 0.1079,\n",
       "         0.1152],\n",
       "        [0.0832, 0.0978, 0.1018, 0.1067, 0.0929, 0.0984, 0.1013, 0.0946, 0.1076,\n",
       "         0.1157],\n",
       "        [0.0840, 0.0969, 0.1023, 0.1035, 0.0952, 0.0980, 0.1033, 0.0952, 0.1075,\n",
       "         0.1140],\n",
       "        [0.0844, 0.0969, 0.1041, 0.1041, 0.0954, 0.0982, 0.1019, 0.0945, 0.1078,\n",
       "         0.1129],\n",
       "        [0.0834, 0.0992, 0.0998, 0.1050, 0.0918, 0.0974, 0.1042, 0.0958, 0.1065,\n",
       "         0.1169],\n",
       "        [0.0858, 0.0994, 0.1018, 0.1038, 0.0944, 0.0978, 0.1054, 0.0948, 0.1029,\n",
       "         0.1140],\n",
       "        [0.0859, 0.0935, 0.1019, 0.1051, 0.0966, 0.0997, 0.1000, 0.0956, 0.1082,\n",
       "         0.1135],\n",
       "        [0.0833, 0.1007, 0.1003, 0.1083, 0.0932, 0.0989, 0.1017, 0.0932, 0.1061,\n",
       "         0.1143],\n",
       "        [0.0834, 0.0963, 0.1037, 0.1044, 0.0937, 0.0979, 0.1042, 0.0942, 0.1078,\n",
       "         0.1144],\n",
       "        [0.0841, 0.0954, 0.1028, 0.1048, 0.0946, 0.1000, 0.1015, 0.0949, 0.1078,\n",
       "         0.1140],\n",
       "        [0.0841, 0.0981, 0.0999, 0.1053, 0.0947, 0.0991, 0.1038, 0.0949, 0.1050,\n",
       "         0.1150],\n",
       "        [0.0845, 0.0962, 0.1037, 0.1032, 0.0954, 0.0988, 0.1015, 0.0952, 0.1054,\n",
       "         0.1161],\n",
       "        [0.0836, 0.1003, 0.1012, 0.1059, 0.0909, 0.0981, 0.1052, 0.0954, 0.1073,\n",
       "         0.1121],\n",
       "        [0.0826, 0.0992, 0.0994, 0.1079, 0.0931, 0.0976, 0.1018, 0.0944, 0.1084,\n",
       "         0.1155],\n",
       "        [0.0835, 0.0983, 0.1010, 0.1057, 0.0928, 0.0967, 0.1020, 0.0955, 0.1068,\n",
       "         0.1177],\n",
       "        [0.0842, 0.0962, 0.1022, 0.1038, 0.0947, 0.0999, 0.1016, 0.0953, 0.1067,\n",
       "         0.1154],\n",
       "        [0.0832, 0.0998, 0.0991, 0.1076, 0.0936, 0.0994, 0.1025, 0.0936, 0.1060,\n",
       "         0.1152],\n",
       "        [0.0844, 0.0992, 0.1004, 0.1048, 0.0939, 0.0970, 0.1043, 0.0968, 0.1062,\n",
       "         0.1131],\n",
       "        [0.0838, 0.0979, 0.1015, 0.1049, 0.0956, 0.0990, 0.1023, 0.0934, 0.1055,\n",
       "         0.1160],\n",
       "        [0.0844, 0.0983, 0.1030, 0.1052, 0.0926, 0.0971, 0.1033, 0.0976, 0.1049,\n",
       "         0.1136],\n",
       "        [0.0842, 0.0951, 0.1026, 0.1045, 0.0956, 0.1002, 0.0995, 0.0951, 0.1085,\n",
       "         0.1147],\n",
       "        [0.0850, 0.0974, 0.1034, 0.1028, 0.0946, 0.0974, 0.1046, 0.0952, 0.1062,\n",
       "         0.1134],\n",
       "        [0.0838, 0.1001, 0.0976, 0.1076, 0.0930, 0.0977, 0.1057, 0.0942, 0.1056,\n",
       "         0.1146],\n",
       "        [0.0838, 0.0977, 0.1027, 0.1046, 0.0933, 0.0971, 0.1033, 0.0958, 0.1064,\n",
       "         0.1152],\n",
       "        [0.0840, 0.0977, 0.1036, 0.1051, 0.0936, 0.0980, 0.1043, 0.0956, 0.1045,\n",
       "         0.1135],\n",
       "        [0.0847, 0.0944, 0.1038, 0.1043, 0.0963, 0.0991, 0.1000, 0.0950, 0.1076,\n",
       "         0.1148],\n",
       "        [0.0825, 0.0992, 0.1030, 0.1030, 0.0922, 0.0981, 0.1042, 0.0938, 0.1067,\n",
       "         0.1173],\n",
       "        [0.0842, 0.0973, 0.1031, 0.1023, 0.0957, 0.0984, 0.1030, 0.0940, 0.1065,\n",
       "         0.1156],\n",
       "        [0.0851, 0.0988, 0.1024, 0.1037, 0.0933, 0.0965, 0.1059, 0.0961, 0.1048,\n",
       "         0.1133],\n",
       "        [0.0859, 0.0966, 0.1038, 0.1026, 0.0952, 0.0981, 0.1037, 0.0950, 0.1053,\n",
       "         0.1138],\n",
       "        [0.0837, 0.0988, 0.1025, 0.1025, 0.0938, 0.0967, 0.1049, 0.0950, 0.1060,\n",
       "         0.1161],\n",
       "        [0.0842, 0.0988, 0.1033, 0.1062, 0.0940, 0.0975, 0.1008, 0.0938, 0.1061,\n",
       "         0.1154],\n",
       "        [0.0834, 0.0967, 0.1036, 0.1059, 0.0947, 0.0988, 0.1018, 0.0940, 0.1086,\n",
       "         0.1125],\n",
       "        [0.0843, 0.0994, 0.0994, 0.1065, 0.0934, 0.0978, 0.1041, 0.0942, 0.1064,\n",
       "         0.1146],\n",
       "        [0.0825, 0.1002, 0.1006, 0.1048, 0.0922, 0.0972, 0.1043, 0.0945, 0.1073,\n",
       "         0.1164],\n",
       "        [0.0826, 0.0981, 0.1001, 0.1058, 0.0941, 0.0984, 0.1010, 0.0949, 0.1086,\n",
       "         0.1164],\n",
       "        [0.0842, 0.0988, 0.1046, 0.1045, 0.0920, 0.0961, 0.1025, 0.0934, 0.1062,\n",
       "         0.1176],\n",
       "        [0.0827, 0.0988, 0.1013, 0.1039, 0.0933, 0.0987, 0.1037, 0.0941, 0.1072,\n",
       "         0.1162],\n",
       "        [0.0839, 0.0966, 0.1025, 0.1060, 0.0939, 0.0995, 0.0994, 0.0942, 0.1082,\n",
       "         0.1159],\n",
       "        [0.0848, 0.0968, 0.1030, 0.1048, 0.0953, 0.0988, 0.1025, 0.0939, 0.1059,\n",
       "         0.1143],\n",
       "        [0.0857, 0.0971, 0.1004, 0.1018, 0.0954, 0.0976, 0.1034, 0.0973, 0.1050,\n",
       "         0.1163],\n",
       "        [0.0836, 0.0991, 0.1006, 0.1080, 0.0929, 0.0969, 0.1016, 0.0937, 0.1077,\n",
       "         0.1158],\n",
       "        [0.0846, 0.0980, 0.1025, 0.1047, 0.0965, 0.0991, 0.1025, 0.0929, 0.1054,\n",
       "         0.1139],\n",
       "        [0.0846, 0.0984, 0.1020, 0.1061, 0.0947, 0.0978, 0.1015, 0.0946, 0.1067,\n",
       "         0.1136],\n",
       "        [0.0841, 0.0985, 0.1021, 0.1058, 0.0921, 0.0956, 0.1072, 0.0950, 0.1054,\n",
       "         0.1142],\n",
       "        [0.0842, 0.0946, 0.1027, 0.1025, 0.0971, 0.0976, 0.1014, 0.0950, 0.1094,\n",
       "         0.1154],\n",
       "        [0.0846, 0.0971, 0.1029, 0.1027, 0.0952, 0.0969, 0.1046, 0.0960, 0.1069,\n",
       "         0.1130],\n",
       "        [0.0835, 0.0982, 0.1008, 0.1070, 0.0943, 0.0985, 0.1014, 0.0944, 0.1064,\n",
       "         0.1154],\n",
       "        [0.0836, 0.0988, 0.1015, 0.1073, 0.0941, 0.0979, 0.1016, 0.0938, 0.1064,\n",
       "         0.1151]], grad_fn=<ExpBackward>)"
      ]
     },
     "metadata": {},
     "execution_count": 4
    }
   ],
   "metadata": {}
  },
  {
   "cell_type": "markdown",
   "source": [
    "With the probabilities, we can get the most likely class using the `ps.topk` method. This returns the $k$ highest values. Since we just want the most likely class, we can use `ps.topk(1)`. This returns a tuple of the top-$k$ values and the top-$k$ indices. If the highest value is the fifth element, we'll get back 4 as the index."
   ],
   "metadata": {}
>>>>>>> 557fa63 (completed till sentiment analysis)
  },
  {
   "cell_type": "code",
   "execution_count": 5,
<<<<<<< HEAD
   "metadata": {},
   "outputs": [
    {
     "name": "stdout",
     "output_type": "stream",
     "text": [
      "tensor([[ 1],\n",
      "        [ 1],\n",
      "        [ 1],\n",
      "        [ 1],\n",
      "        [ 1],\n",
      "        [ 1],\n",
      "        [ 1],\n",
      "        [ 1],\n",
      "        [ 1],\n",
      "        [ 1]])\n"
     ]
    }
   ],
   "source": [
    "top_p, top_class = ps.topk(1, dim=1)\n",
    "# Look at the most likely classes for the first 10 examples\n",
    "print(top_class[:10,:])"
   ]
  },
  {
   "cell_type": "markdown",
   "metadata": {},
=======
   "source": [
    "top_p, top_class = ps.topk(1, dim=1)\n",
    "# Look at the most likely classes for the first 10 examples\n",
    "print(top_class[:10,:])"
   ],
   "outputs": [
    {
     "output_type": "stream",
     "name": "stdout",
     "text": [
      "tensor([[9],\n",
      "        [9],\n",
      "        [9],\n",
      "        [9],\n",
      "        [9],\n",
      "        [9],\n",
      "        [9],\n",
      "        [9],\n",
      "        [9],\n",
      "        [9]])\n"
     ]
    }
   ],
   "metadata": {}
  },
  {
   "cell_type": "markdown",
>>>>>>> 557fa63 (completed till sentiment analysis)
   "source": [
    "Now we can check if the predicted classes match the labels. This is simple to do by equating `top_class` and `labels`, but we have to be careful of the shapes. Here `top_class` is a 2D tensor with shape `(64, 1)` while `labels` is 1D with shape `(64)`. To get the equality to work out the way we want, `top_class` and `labels` must have the same shape.\n",
    "\n",
    "If we do\n",
    "\n",
    "```python\n",
    "equals = top_class == labels\n",
    "```\n",
    "\n",
    "`equals` will have shape `(64, 64)`, try it yourself. What it's doing is comparing the one element in each row of `top_class` with each element in `labels` which returns 64 True/False boolean values for each row."
<<<<<<< HEAD
   ]
=======
   ],
   "metadata": {}
>>>>>>> 557fa63 (completed till sentiment analysis)
  },
  {
   "cell_type": "code",
   "execution_count": 6,
<<<<<<< HEAD
   "metadata": {},
   "outputs": [],
   "source": [
    "equals = top_class == labels.view(*top_class.shape)"
   ]
  },
  {
   "cell_type": "markdown",
   "metadata": {},
=======
   "source": [
    "equals = top_class == labels.view(*top_class.shape)"
   ],
   "outputs": [],
   "metadata": {}
  },
  {
   "cell_type": "markdown",
>>>>>>> 557fa63 (completed till sentiment analysis)
   "source": [
    "Now we need to calculate the percentage of correct predictions. `equals` has binary values, either 0 or 1. This means that if we just sum up all the values and divide by the number of values, we get the percentage of correct predictions. This is the same operation as taking the mean, so we can get the accuracy with a call to `torch.mean`. If only it was that simple. If you try `torch.mean(equals)`, you'll get an error\n",
    "\n",
    "```\n",
    "RuntimeError: mean is not implemented for type torch.ByteTensor\n",
    "```\n",
    "\n",
    "This happens because `equals` has type `torch.ByteTensor` but `torch.mean` isn't implemented for tensors with that type. So we'll need to convert `equals` to a float tensor. Note that when we take `torch.mean` it returns a scalar tensor, to get the actual value as a float we'll need to do `accuracy.item()`."
<<<<<<< HEAD
   ]
=======
   ],
   "metadata": {}
>>>>>>> 557fa63 (completed till sentiment analysis)
  },
  {
   "cell_type": "code",
   "execution_count": 7,
<<<<<<< HEAD
   "metadata": {},
   "outputs": [
    {
     "name": "stdout",
     "output_type": "stream",
     "text": [
      "Accuracy: 7.8125%\n"
     ]
    }
   ],
   "source": [
    "accuracy = torch.mean(equals.type(torch.FloatTensor))\n",
    "print(f'Accuracy: {accuracy.item()*100}%')"
   ]
  },
  {
   "cell_type": "markdown",
   "metadata": {},
=======
   "source": [
    "accuracy = torch.mean(equals.type(torch.FloatTensor))\n",
    "print(f'Accuracy: {accuracy.item()*100}%')"
   ],
   "outputs": [
    {
     "output_type": "stream",
     "name": "stdout",
     "text": [
      "Accuracy: 9.375%\n"
     ]
    }
   ],
   "metadata": {}
  },
  {
   "cell_type": "markdown",
>>>>>>> 557fa63 (completed till sentiment analysis)
   "source": [
    "The network is untrained so it's making random guesses and we should see an accuracy around 10%. Now let's train our network and include our validation pass so we can measure how well the network is performing on the test set. Since we're not updating our parameters in the validation pass, we can speed up our code by turning off gradients using `torch.no_grad()`:\n",
    "\n",
    "```python\n",
    "# turn off gradients\n",
    "with torch.no_grad():\n",
    "    # validation pass here\n",
    "    for images, labels in testloader:\n",
    "        ...\n",
    "```\n",
    "\n",
    ">**Exercise:** Implement the validation loop below and print out the total accuracy after the loop. You can largely copy and paste the code from above, but I suggest typing it in because writing it out yourself is essential for building the skill. In general you'll always learn more by typing it rather than copy-pasting. You should be able to get an accuracy above 80%."
<<<<<<< HEAD
   ]
  },
  {
   "cell_type": "code",
   "execution_count": null,
   "metadata": {},
   "outputs": [],
=======
   ],
   "metadata": {}
  },
  {
   "cell_type": "code",
   "execution_count": 8,
>>>>>>> 557fa63 (completed till sentiment analysis)
   "source": [
    "model = Classifier()\n",
    "criterion = nn.NLLLoss()\n",
    "optimizer = optim.Adam(model.parameters(), lr=0.003)\n",
    "\n",
    "epochs = 30\n",
    "steps = 0\n",
    "\n",
    "train_losses, test_losses = [], []\n",
    "for e in range(epochs):\n",
    "    running_loss = 0\n",
    "    for images, labels in trainloader:\n",
    "        \n",
    "        optimizer.zero_grad()\n",
    "        \n",
    "        log_ps = model(images)\n",
    "        loss = criterion(log_ps, labels)\n",
    "        loss.backward()\n",
    "        optimizer.step()\n",
    "        \n",
    "        running_loss += loss.item()\n",
    "        \n",
    "    else:\n",
    "        ## TODO: Implement the validation pass and print out the validation accuracy\n",
<<<<<<< HEAD
    "        print(f'Accuracy: {accuracy.item()*100}%')"
   ]
  },
  {
   "cell_type": "markdown",
   "metadata": {},
=======
    "        total_correct = 0\n",
    "        total_loss = 0\n",
    "        with torch.no_grad():\n",
    "            for images, labels in testloader:\n",
    "                log_ps = model.forward(images)\n",
    "                loss_test = criterion(log_ps, labels)\n",
    "                total_loss += loss_test.item()\n",
    "\n",
    "                ps = torch.exp(log_ps)\n",
    "                top_i, top_class = ps.topk(1, dim=1)\n",
    "                equal = top_class == labels.view(top_class.shape)\n",
    "                correct = equal.sum().item()\n",
    "                total_correct += correct\n",
    "\n",
    "            test_loss = total_loss / len(testloader.dataset)\n",
    "            train_loss = running_loss / len(trainloader.dataset)\n",
    "\n",
    "            train_losses.append(train_loss)\n",
    "            test_losses.append(test_loss)\n",
    "\n",
    "            print(f\"Echo: {e+1} || correct: {total_correct} || accuracy: {total_correct/len(testloader.dataset)}\")"
   ],
   "outputs": [
    {
     "output_type": "stream",
     "name": "stdout",
     "text": [
      "Echo: 1 || correct: 8314 || accuracy: 0.8314\n",
      "Echo: 2 || correct: 8547 || accuracy: 0.8547\n",
      "Echo: 3 || correct: 8605 || accuracy: 0.8605\n",
      "Echo: 4 || correct: 8637 || accuracy: 0.8637\n",
      "Echo: 5 || correct: 8429 || accuracy: 0.8429\n",
      "Echo: 6 || correct: 8739 || accuracy: 0.8739\n",
      "Echo: 7 || correct: 8781 || accuracy: 0.8781\n",
      "Echo: 8 || correct: 8584 || accuracy: 0.8584\n",
      "Echo: 9 || correct: 8785 || accuracy: 0.8785\n",
      "Echo: 10 || correct: 8710 || accuracy: 0.871\n",
      "Echo: 11 || correct: 8793 || accuracy: 0.8793\n",
      "Echo: 12 || correct: 8770 || accuracy: 0.877\n",
      "Echo: 13 || correct: 8821 || accuracy: 0.8821\n",
      "Echo: 14 || correct: 8785 || accuracy: 0.8785\n",
      "Echo: 15 || correct: 8787 || accuracy: 0.8787\n",
      "Echo: 16 || correct: 8772 || accuracy: 0.8772\n",
      "Echo: 17 || correct: 8818 || accuracy: 0.8818\n",
      "Echo: 18 || correct: 8701 || accuracy: 0.8701\n",
      "Echo: 19 || correct: 8837 || accuracy: 0.8837\n",
      "Echo: 20 || correct: 8836 || accuracy: 0.8836\n",
      "Echo: 21 || correct: 8809 || accuracy: 0.8809\n",
      "Echo: 22 || correct: 8851 || accuracy: 0.8851\n",
      "Echo: 23 || correct: 8827 || accuracy: 0.8827\n",
      "Echo: 24 || correct: 8869 || accuracy: 0.8869\n",
      "Echo: 25 || correct: 8806 || accuracy: 0.8806\n",
      "Echo: 26 || correct: 8818 || accuracy: 0.8818\n",
      "Echo: 27 || correct: 8881 || accuracy: 0.8881\n",
      "Echo: 28 || correct: 8860 || accuracy: 0.886\n",
      "Echo: 29 || correct: 8856 || accuracy: 0.8856\n",
      "Echo: 30 || correct: 8868 || accuracy: 0.8868\n"
     ]
    }
   ],
   "metadata": {}
  },
  {
   "cell_type": "code",
   "execution_count": 9,
   "source": [
    "import matplotlib.pyplot as plt\n",
    "plt.plot(train_losses, label=\"Train Loss\")\n",
    "plt.plot(test_losses, label=\"Test Loss\")"
   ],
   "outputs": [
    {
     "output_type": "execute_result",
     "data": {
      "text/plain": [
       "[<matplotlib.lines.Line2D at 0x7fb372026fd0>]"
      ]
     },
     "metadata": {},
     "execution_count": 9
    },
    {
     "output_type": "display_data",
     "data": {
      "image/png": "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",
      "text/plain": [
       "<Figure size 432x288 with 1 Axes>"
      ]
     },
     "metadata": {
      "needs_background": "light"
     }
    }
   ],
   "metadata": {}
  },
  {
   "cell_type": "markdown",
>>>>>>> 557fa63 (completed till sentiment analysis)
   "source": [
    "## Overfitting\n",
    "\n",
    "If we look at the training and validation losses as we train the network, we can see a phenomenon known as overfitting.\n",
    "\n",
    "<img src='assets/overfitting.png' width=450px>\n",
    "\n",
    "The network learns the training set better and better, resulting in lower training losses. However, it starts having problems generalizing to data outside the training set leading to the validation loss increasing. The ultimate goal of any deep learning model is to make predictions on new data, so we should strive to get the lowest validation loss possible. One option is to use the version of the model with the lowest validation loss, here the one around 8-10 training epochs. This strategy is called *early-stopping*. In practice, you'd save the model frequently as you're training then later choose the model with the lowest validation loss.\n",
    "\n",
    "The most common method to reduce overfitting (outside of early-stopping) is *dropout*, where we randomly drop input units. This forces the network to share information between weights, increasing it's ability to generalize to new data. Adding dropout in PyTorch is straightforward using the [`nn.Dropout`](https://pytorch.org/docs/stable/nn.html#torch.nn.Dropout) module.\n",
    "\n",
    "```python\n",
    "class Classifier(nn.Module):\n",
    "    def __init__(self):\n",
    "        super().__init__()\n",
    "        self.fc1 = nn.Linear(784, 256)\n",
    "        self.fc2 = nn.Linear(256, 128)\n",
    "        self.fc3 = nn.Linear(128, 64)\n",
    "        self.fc4 = nn.Linear(64, 10)\n",
    "        \n",
    "        # Dropout module with 0.2 drop probability\n",
    "        self.dropout = nn.Dropout(p=0.2)\n",
    "        \n",
    "    def forward(self, x):\n",
    "        # make sure input tensor is flattened\n",
    "        x = x.view(x.shape[0], -1)\n",
    "        \n",
    "        # Now with dropout\n",
    "        x = self.dropout(F.relu(self.fc1(x)))\n",
    "        x = self.dropout(F.relu(self.fc2(x)))\n",
    "        x = self.dropout(F.relu(self.fc3(x)))\n",
    "        \n",
    "        # output so no dropout here\n",
    "        x = F.log_softmax(self.fc4(x), dim=1)\n",
    "        \n",
    "        return x\n",
    "```\n",
    "\n",
    "During training we want to use dropout to prevent overfitting, but during inference we want to use the entire network. So, we need to turn off dropout during validation, testing, and whenever we're using the network to make predictions. To do this, you use `model.eval()`. This sets the model to evaluation mode where the dropout probability is 0. You can turn dropout back on by setting the model to train mode with `model.train()`. In general, the pattern for the validation loop will look like this, where you turn off gradients, set the model to evaluation mode, calculate the validation loss and metric, then set the model back to train mode.\n",
    "\n",
    "```python\n",
    "# turn off gradients\n",
    "with torch.no_grad():\n",
    "    \n",
    "    # set model to evaluation mode\n",
    "    model.eval()\n",
    "    \n",
    "    # validation pass here\n",
    "    for images, labels in testloader:\n",
    "        ...\n",
    "\n",
    "# set model back to train mode\n",
    "model.train()\n",
    "```"
<<<<<<< HEAD
   ]
  },
  {
   "cell_type": "markdown",
   "metadata": {},
   "source": [
    "> **Exercise:** Add dropout to your model and train it on Fashion-MNIST again. See if you can get a lower validation loss or higher accuracy."
   ]
  },
  {
   "cell_type": "code",
   "execution_count": 23,
   "metadata": {},
   "outputs": [],
   "source": [
    "## TODO: Define your model with dropout added"
   ]
  },
  {
   "cell_type": "code",
   "execution_count": null,
   "metadata": {},
   "outputs": [],
   "source": [
    "## TODO: Train your model with dropout, and monitor the training progress with the validation loss and accuracy"
   ]
  },
  {
   "cell_type": "markdown",
   "metadata": {},
   "source": [
    "## Inference\n",
    "\n",
    "Now that the model is trained, we can use it for inference. We've done this before, but now we need to remember to set the model in inference mode with `model.eval()`. You'll also want to turn off autograd with the `torch.no_grad()` context."
   ]
  },
  {
   "cell_type": "code",
   "execution_count": 29,
   "metadata": {},
   "outputs": [
    {
     "data": {
      "image/png": "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\n",
      "text/plain": [
       "<Figure size 432x648 with 2 Axes>"
      ]
     },
     "metadata": {
      "image/png": {
       "height": 206,
       "width": 423
      },
      "needs_background": "light"
     },
     "output_type": "display_data"
    }
   ],
=======
   ],
   "metadata": {}
  },
  {
   "cell_type": "markdown",
   "source": [
    "> **Exercise:** Add dropout to your model and train it on Fashion-MNIST again. See if you can get a lower validation loss or higher accuracy."
   ],
   "metadata": {}
  },
  {
   "cell_type": "code",
   "execution_count": 10,
   "source": [
    "## TODO: Define your model with dropout added\n",
    "class DropoutNetwork (nn.Module):\n",
    "    def __init__(self):\n",
    "        super().__init__()\n",
    "        self.fc1 = nn.Linear(784,256)\n",
    "        self.fc2 = nn.Linear(256,128)\n",
    "        self.fc3 = nn.Linear(128,64)\n",
    "        self.fc4 = nn.Linear(64,10)\n",
    "\n",
    "        self.dropout = nn.Dropout(0.2)\n",
    "    \n",
    "    def forward(self, x):\n",
    "        x = x.view(x.shape[0],-1)\n",
    "\n",
    "        x = self.dropout(F.relu(self.fc1(x)))\n",
    "        x = self.dropout(F.relu(self.fc2(x)))\n",
    "        x = self.dropout(F.relu(self.fc3(x)))\n",
    "        out = F.log_softmax(self.fc4(x), dim=1)\n",
    "\n",
    "        return out"
   ],
   "outputs": [],
   "metadata": {}
  },
  {
   "cell_type": "code",
   "execution_count": 11,
   "source": [
    "## TODO: Train your model with dropout, and monitor the training progress with the validation loss and accuracy\n",
    "model = DropoutNetwork()\n",
    "criterion = nn.NLLLoss()\n",
    "optimizer = optim.Adam(model.parameters(), lr=0.003)\n",
    "\n",
    "epochs = 30\n",
    "\n",
    "test_losses, train_losses = [], []\n",
    "for e in range(epochs):\n",
    "    model.train() # activating dropout in train mode\n",
    "\n",
    "    total_train_loss = 0\n",
    "    for images, labels in trainloader:\n",
    "\n",
    "        optimizer.zero_grad()\n",
    "\n",
    "        log_ps = model.forward(images)\n",
    "        loss = criterion(log_ps, labels)\n",
    "        total_train_loss += loss.item()\n",
    "\n",
    "        loss.backward()\n",
    "        optimizer.step()\n",
    "\n",
    "    else:\n",
    "        model.eval() # turning off the dropout for validation\n",
    "        total_test_loss = 0\n",
    "        total_correct = 0\n",
    "        with torch.no_grad():\n",
    "            for images, labels in testloader:\n",
    "                log_ps = model.forward(images)\n",
    "                loss = criterion(log_ps, labels)\n",
    "                total_test_loss += loss.item()\n",
    "\n",
    "                ps = torch.exp(log_ps)\n",
    "                top_i, top_class = ps.topk(1,dim=1)\n",
    "                equal = top_class == labels.view(top_class.shape)\n",
    "                total_correct += equal.sum().item()\n",
    "\n",
    "            train_loss = total_train_loss / len(trainloader.dataset)\n",
    "            test_loss = total_test_loss / len(testloader.dataset)\n",
    "\n",
    "            train_losses.append(train_loss)\n",
    "            test_losses.append(test_loss)\n",
    "            \n",
    "            print(f\"Echo: {e+1} || correct: {total_correct} || accuracy: {total_correct/len(testloader.dataset)}\")\n",
    "\n",
    "\n"
   ],
   "outputs": [
    {
     "output_type": "stream",
     "name": "stdout",
     "text": [
      "Echo: 1 || correct: 8177 || accuracy: 0.8177\n",
      "Echo: 2 || correct: 8352 || accuracy: 0.8352\n",
      "Echo: 3 || correct: 8516 || accuracy: 0.8516\n",
      "Echo: 4 || correct: 8548 || accuracy: 0.8548\n",
      "Echo: 5 || correct: 8571 || accuracy: 0.8571\n",
      "Echo: 6 || correct: 8637 || accuracy: 0.8637\n",
      "Echo: 7 || correct: 8563 || accuracy: 0.8563\n",
      "Echo: 8 || correct: 8677 || accuracy: 0.8677\n",
      "Echo: 9 || correct: 8680 || accuracy: 0.868\n",
      "Echo: 10 || correct: 8667 || accuracy: 0.8667\n",
      "Echo: 11 || correct: 8676 || accuracy: 0.8676\n",
      "Echo: 12 || correct: 8607 || accuracy: 0.8607\n",
      "Echo: 13 || correct: 8618 || accuracy: 0.8618\n",
      "Echo: 14 || correct: 8696 || accuracy: 0.8696\n",
      "Echo: 15 || correct: 8682 || accuracy: 0.8682\n",
      "Echo: 16 || correct: 8728 || accuracy: 0.8728\n",
      "Echo: 17 || correct: 8681 || accuracy: 0.8681\n",
      "Echo: 18 || correct: 8681 || accuracy: 0.8681\n",
      "Echo: 19 || correct: 8703 || accuracy: 0.8703\n",
      "Echo: 20 || correct: 8673 || accuracy: 0.8673\n",
      "Echo: 21 || correct: 8745 || accuracy: 0.8745\n",
      "Echo: 22 || correct: 8731 || accuracy: 0.8731\n",
      "Echo: 23 || correct: 8688 || accuracy: 0.8688\n",
      "Echo: 24 || correct: 8608 || accuracy: 0.8608\n",
      "Echo: 25 || correct: 8752 || accuracy: 0.8752\n",
      "Echo: 26 || correct: 8698 || accuracy: 0.8698\n",
      "Echo: 27 || correct: 8751 || accuracy: 0.8751\n",
      "Echo: 28 || correct: 8709 || accuracy: 0.8709\n",
      "Echo: 29 || correct: 8744 || accuracy: 0.8744\n",
      "Echo: 30 || correct: 8758 || accuracy: 0.8758\n"
     ]
    }
   ],
   "metadata": {}
  },
  {
   "cell_type": "code",
   "execution_count": 12,
   "source": [
    "import matplotlib.pyplot as plt\n",
    "plt.plot(train_losses, label=\"Train Loss\")\n",
    "plt.plot(test_losses, label=\"Test Loss\")"
   ],
   "outputs": [
    {
     "output_type": "execute_result",
     "data": {
      "text/plain": [
       "[<matplotlib.lines.Line2D at 0x7fb34877a040>]"
      ]
     },
     "metadata": {},
     "execution_count": 12
    },
    {
     "output_type": "display_data",
     "data": {
      "image/png": "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",
      "text/plain": [
       "<Figure size 432x288 with 1 Axes>"
      ]
     },
     "metadata": {
      "needs_background": "light"
     }
    }
   ],
   "metadata": {}
  },
  {
   "cell_type": "markdown",
   "source": [
    "## Inference\n",
    "\n",
    "Now that the model is trained, we can use it for inference. We've done this before, but now we need to remember to set the model in inference mode with `model.eval()`. You'll also want to turn off autograd with the `torch.no_grad()` context."
   ],
   "metadata": {}
  },
  {
   "cell_type": "code",
   "execution_count": 16,
>>>>>>> 557fa63 (completed till sentiment analysis)
   "source": [
    "# Import helper module (should be in the repo)\n",
    "import helper\n",
    "\n",
    "# Test out your network!\n",
    "\n",
    "model.eval()\n",
    "\n",
    "dataiter = iter(testloader)\n",
    "images, labels = dataiter.next()\n",
    "img = images[0]\n",
    "# Convert 2D image to 1D vector\n",
    "img = img.view(1, 784)\n",
    "\n",
    "# Calculate the class probabilities (softmax) for img\n",
    "with torch.no_grad():\n",
    "    output = model.forward(img)\n",
    "\n",
    "ps = torch.exp(output)\n",
    "\n",
    "# Plot the image and probabilities\n",
    "helper.view_classify(img.view(1, 28, 28), ps, version='Fashion')"
<<<<<<< HEAD
   ]
  },
  {
   "cell_type": "markdown",
   "metadata": {},
=======
   ],
   "outputs": [
    {
     "output_type": "display_data",
     "data": {
      "image/png": "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",
      "text/plain": [
       "<Figure size 432x648 with 2 Axes>"
      ]
     },
     "metadata": {
      "needs_background": "light"
     }
    }
   ],
   "metadata": {}
  },
  {
   "cell_type": "markdown",
>>>>>>> 557fa63 (completed till sentiment analysis)
   "source": [
    "## Next Up!\n",
    "\n",
    "In the next part, I'll show you how to save your trained models. In general, you won't want to train a model everytime you need it. Instead, you'll train once, save it, then load the model when you want to train more or use if for inference."
<<<<<<< HEAD
   ]
=======
   ],
   "metadata": {}
>>>>>>> 557fa63 (completed till sentiment analysis)
  }
 ],
 "metadata": {
  "kernelspec": {
<<<<<<< HEAD
   "display_name": "Python 3",
   "language": "python",
   "name": "python3"
=======
   "name": "python3",
   "display_name": "Python 3.8.10 64-bit ('venv': venv)"
>>>>>>> 557fa63 (completed till sentiment analysis)
  },
  "language_info": {
   "codemirror_mode": {
    "name": "ipython",
    "version": 3
   },
   "file_extension": ".py",
   "mimetype": "text/x-python",
   "name": "python",
   "nbconvert_exporter": "python",
   "pygments_lexer": "ipython3",
<<<<<<< HEAD
   "version": "3.6.6"
=======
   "version": "3.8.10"
  },
  "interpreter": {
   "hash": "6d0ce585ba42aaeb440d8bc31b1cfe4df4b28be41ad5aca95db481df065fbb3c"
>>>>>>> 557fa63 (completed till sentiment analysis)
  }
 },
 "nbformat": 4,
 "nbformat_minor": 2
<<<<<<< HEAD
}
=======
}
>>>>>>> 557fa63 (completed till sentiment analysis)

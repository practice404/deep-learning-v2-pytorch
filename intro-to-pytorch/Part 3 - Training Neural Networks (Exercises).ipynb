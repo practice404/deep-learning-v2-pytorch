{
 "cells": [
  {
   "cell_type": "markdown",
<<<<<<< HEAD
   "metadata": {},
=======
>>>>>>> 557fa63 (completed till sentiment analysis)
   "source": [
    "# Training Neural Networks\n",
    "\n",
    "The network we built in the previous part isn't so smart, it doesn't know anything about our handwritten digits. Neural networks with non-linear activations work like universal function approximators. There is some function that maps your input to the output. For example, images of handwritten digits to class probabilities. The power of neural networks is that we can train them to approximate this function, and basically any function given enough data and compute time.\n",
    "\n",
    "<img src=\"assets/function_approx.png\" width=500px>\n",
    "\n",
    "At first the network is naive, it doesn't know the function mapping the inputs to the outputs. We train the network by showing it examples of real data, then adjusting the network parameters such that it approximates this function.\n",
    "\n",
    "To find these parameters, we need to know how poorly the network is predicting the real outputs. For this we calculate a **loss function** (also called the cost), a measure of our prediction error. For example, the mean squared loss is often used in regression and binary classification problems\n",
    "\n",
    "$$\n",
    "\\large \\ell = \\frac{1}{2n}\\sum_i^n{\\left(y_i - \\hat{y}_i\\right)^2}\n",
    "$$\n",
    "\n",
    "where $n$ is the number of training examples, $y_i$ are the true labels, and $\\hat{y}_i$ are the predicted labels.\n",
    "\n",
    "By minimizing this loss with respect to the network parameters, we can find configurations where the loss is at a minimum and the network is able to predict the correct labels with high accuracy. We find this minimum using a process called **gradient descent**. The gradient is the slope of the loss function and points in the direction of fastest change. To get to the minimum in the least amount of time, we then want to follow the gradient (downwards). You can think of this like descending a mountain by following the steepest slope to the base.\n",
    "\n",
    "<img src='assets/gradient_descent.png' width=350px>"
<<<<<<< HEAD
   ]
  },
  {
   "cell_type": "markdown",
   "metadata": {},
=======
   ],
   "metadata": {}
  },
  {
   "cell_type": "markdown",
>>>>>>> 557fa63 (completed till sentiment analysis)
   "source": [
    "## Backpropagation\n",
    "\n",
    "For single layer networks, gradient descent is straightforward to implement. However, it's more complicated for deeper, multilayer neural networks like the one we've built. Complicated enough that it took about 30 years before researchers figured out how to train multilayer networks.\n",
    "\n",
    "Training multilayer networks is done through **backpropagation** which is really just an application of the chain rule from calculus. It's easiest to understand if we convert a two layer network into a graph representation.\n",
    "\n",
    "<img src='assets/backprop_diagram.png' width=550px>\n",
    "\n",
    "In the forward pass through the network, our data and operations go from bottom to top here. We pass the input $x$ through a linear transformation $L_1$ with weights $W_1$ and biases $b_1$. The output then goes through the sigmoid operation $S$ and another linear transformation $L_2$. Finally we calculate the loss $\\ell$. We use the loss as a measure of how bad the network's predictions are. The goal then is to adjust the weights and biases to minimize the loss.\n",
    "\n",
    "To train the weights with gradient descent, we propagate the gradient of the loss backwards through the network. Each operation has some gradient between the inputs and outputs. As we send the gradients backwards, we multiply the incoming gradient with the gradient for the operation. Mathematically, this is really just calculating the gradient of the loss with respect to the weights using the chain rule.\n",
    "\n",
    "$$\n",
    "\\large \\frac{\\partial \\ell}{\\partial W_1} = \\frac{\\partial L_1}{\\partial W_1} \\frac{\\partial S}{\\partial L_1} \\frac{\\partial L_2}{\\partial S} \\frac{\\partial \\ell}{\\partial L_2}\n",
    "$$\n",
    "\n",
    "**Note:** I'm glossing over a few details here that require some knowledge of vector calculus, but they aren't necessary to understand what's going on.\n",
    "\n",
    "We update our weights using this gradient with some learning rate $\\alpha$. \n",
    "\n",
    "$$\n",
    "\\large W^\\prime_1 = W_1 - \\alpha \\frac{\\partial \\ell}{\\partial W_1}\n",
    "$$\n",
    "\n",
    "The learning rate $\\alpha$ is set such that the weight update steps are small enough that the iterative method settles in a minimum."
<<<<<<< HEAD
   ]
  },
  {
   "cell_type": "markdown",
   "metadata": {},
=======
   ],
   "metadata": {}
  },
  {
   "cell_type": "markdown",
>>>>>>> 557fa63 (completed till sentiment analysis)
   "source": [
    "## Losses in PyTorch\n",
    "\n",
    "Let's start by seeing how we calculate the loss with PyTorch. Through the `nn` module, PyTorch provides losses such as the cross-entropy loss (`nn.CrossEntropyLoss`). You'll usually see the loss assigned to `criterion`. As noted in the last part, with a classification problem such as MNIST, we're using the softmax function to predict class probabilities. With a softmax output, you want to use cross-entropy as the loss. To actually calculate the loss, you first define the criterion then pass in the output of your network and the correct labels.\n",
    "\n",
    "Something really important to note here. Looking at [the documentation for `nn.CrossEntropyLoss`](https://pytorch.org/docs/stable/nn.html#torch.nn.CrossEntropyLoss),\n",
    "\n",
    "> This criterion combines `nn.LogSoftmax()` and `nn.NLLLoss()` in one single class.\n",
    ">\n",
    "> The input is expected to contain scores for each class.\n",
    "\n",
    "This means we need to pass in the raw output of our network into the loss, not the output of the softmax function. This raw output is usually called the *logits* or *scores*. We use the logits because softmax gives you probabilities which will often be very close to zero or one but floating-point numbers can't accurately represent values near zero or one ([read more here](https://docs.python.org/3/tutorial/floatingpoint.html)). It's usually best to avoid doing calculations with probabilities, typically we use log-probabilities."
<<<<<<< HEAD
   ]
  },
  {
   "cell_type": "code",
   "execution_count": null,
   "metadata": {},
   "outputs": [],
=======
   ],
   "metadata": {}
  },
  {
   "cell_type": "code",
   "execution_count": 84,
>>>>>>> 557fa63 (completed till sentiment analysis)
   "source": [
    "# The MNIST datasets are hosted on yann.lecun.com that has moved under CloudFlare protection\n",
    "# Run this script to enable the datasets download\n",
    "# Reference: https://github.com/pytorch/vision/issues/1938\n",
    "\n",
    "from six.moves import urllib\n",
    "opener = urllib.request.build_opener()\n",
    "opener.addheaders = [('User-agent', 'Mozilla/5.0')]\n",
    "urllib.request.install_opener(opener)"
<<<<<<< HEAD
   ]
  },
  {
   "cell_type": "code",
   "execution_count": null,
   "metadata": {},
   "outputs": [],
=======
   ],
   "outputs": [],
   "metadata": {}
  },
  {
   "cell_type": "code",
   "execution_count": 85,
>>>>>>> 557fa63 (completed till sentiment analysis)
   "source": [
    "import torch\n",
    "from torch import nn\n",
    "import torch.nn.functional as F\n",
    "from torchvision import datasets, transforms\n",
<<<<<<< HEAD
=======
    "import matplotlib.pyplot as plt\n",
>>>>>>> 557fa63 (completed till sentiment analysis)
    "\n",
    "# Define a transform to normalize the data\n",
    "transform = transforms.Compose([transforms.ToTensor(),\n",
    "                                transforms.Normalize((0.5,), (0.5,)),\n",
    "                              ])\n",
    "# Download and load the training data\n",
    "trainset = datasets.MNIST('~/.pytorch/MNIST_data/', download=True, train=True, transform=transform)\n",
    "trainloader = torch.utils.data.DataLoader(trainset, batch_size=64, shuffle=True)"
<<<<<<< HEAD
   ]
  },
  {
   "cell_type": "markdown",
   "metadata": {},
   "source": [
    "### Note\n",
    "If you haven't seen `nn.Sequential` yet, please finish the end of the Part 2 notebook."
   ]
  },
  {
   "cell_type": "code",
   "execution_count": null,
   "metadata": {},
   "outputs": [],
=======
   ],
   "outputs": [],
   "metadata": {}
  },
  {
   "cell_type": "markdown",
   "source": [
    "### Note\n",
    "If you haven't seen `nn.Sequential` yet, please finish the end of the Part 2 notebook."
   ],
   "metadata": {}
  },
  {
   "cell_type": "code",
   "execution_count": 86,
>>>>>>> 557fa63 (completed till sentiment analysis)
   "source": [
    "# Build a feed-forward network\n",
    "model = nn.Sequential(nn.Linear(784, 128),\n",
    "                      nn.ReLU(),\n",
    "                      nn.Linear(128, 64),\n",
    "                      nn.ReLU(),\n",
    "                      nn.Linear(64, 10))\n",
    "\n",
    "# Define the loss\n",
    "criterion = nn.CrossEntropyLoss()\n",
    "\n",
    "# Get our data\n",
    "dataiter = iter(trainloader)\n",
    "\n",
    "images, labels = next(dataiter)\n",
    "\n",
    "# Flatten images\n",
    "images = images.view(images.shape[0], -1)\n",
    "\n",
    "# Forward pass, get our logits\n",
    "logits = model(images)\n",
    "# Calculate the loss with the logits and the labels\n",
    "loss = criterion(logits, labels)\n",
    "\n",
    "print(loss)"
<<<<<<< HEAD
   ]
  },
  {
   "cell_type": "markdown",
   "metadata": {},
=======
   ],
   "outputs": [
    {
     "output_type": "stream",
     "name": "stdout",
     "text": [
      "tensor(2.3216, grad_fn=<NllLossBackward>)\n"
     ]
    }
   ],
   "metadata": {}
  },
  {
   "cell_type": "markdown",
>>>>>>> 557fa63 (completed till sentiment analysis)
   "source": [
    "In my experience it's more convenient to build the model with a log-softmax output using `nn.LogSoftmax` or `F.log_softmax` ([documentation](https://pytorch.org/docs/stable/nn.html#torch.nn.LogSoftmax)). Then you can get the actual probabilities by taking the exponential `torch.exp(output)`. With a log-softmax output, you want to use the negative log likelihood loss, `nn.NLLLoss` ([documentation](https://pytorch.org/docs/stable/nn.html#torch.nn.NLLLoss)).\n",
    "\n",
    ">**Exercise:** Build a model that returns the log-softmax as the output and calculate the loss using the negative log likelihood loss. Note that for `nn.LogSoftmax` and `F.log_softmax` you'll need to set the `dim` keyword argument appropriately. `dim=0` calculates softmax across the rows, so each column sums to 1, while `dim=1` calculates across the columns so each row sums to 1. Think about what you want the output to be and choose `dim` appropriately."
<<<<<<< HEAD
   ]
  },
  {
   "cell_type": "code",
   "execution_count": null,
   "metadata": {},
   "outputs": [],
   "source": [
    "# TODO: Build a feed-forward network\n",
    "model = \n",
    "\n",
    "# TODO: Define the loss\n",
    "criterion = \n",
=======
   ],
   "metadata": {}
  },
  {
   "cell_type": "code",
   "execution_count": 87,
   "source": [
    "# TODO: Build a feed-forward network\n",
    "model = nn.Sequential(\n",
    "    nn.Linear(784,128),\n",
    "    nn.ReLU(),\n",
    "    nn.Linear(128,64),\n",
    "    nn.ReLU(),\n",
    "    nn.Linear(64,10),\n",
    "    nn.LogSoftmax(dim=1)\n",
    ")\n",
    "\n",
    "# TODO: Define the loss\n",
    "criterion = nn.NLLLoss()\n",
>>>>>>> 557fa63 (completed till sentiment analysis)
    "\n",
    "### Run this to check your work\n",
    "# Get our data\n",
    "dataiter = iter(trainloader)\n",
    "\n",
    "images, labels = next(dataiter)\n",
    "\n",
    "# Flatten images\n",
    "images = images.view(images.shape[0], -1)\n",
    "\n",
    "# Forward pass, get our logits\n",
    "logits = model(images)\n",
    "# Calculate the loss with the logits and the labels\n",
    "loss = criterion(logits, labels)\n",
    "\n",
    "print(loss)"
<<<<<<< HEAD
   ]
  },
  {
   "cell_type": "markdown",
   "metadata": {},
=======
   ],
   "outputs": [
    {
     "output_type": "stream",
     "name": "stdout",
     "text": [
      "tensor(2.2960, grad_fn=<NllLossBackward>)\n"
     ]
    }
   ],
   "metadata": {}
  },
  {
   "cell_type": "markdown",
>>>>>>> 557fa63 (completed till sentiment analysis)
   "source": [
    "## Autograd\n",
    "\n",
    "Now that we know how to calculate a loss, how do we use it to perform backpropagation? Torch provides a module, `autograd`, for automatically calculating the gradients of tensors. We can use it to calculate the gradients of all our parameters with respect to the loss. Autograd works by keeping track of operations performed on tensors, then going backwards through those operations, calculating gradients along the way. To make sure PyTorch keeps track of operations on a tensor and calculates the gradients, you need to set `requires_grad = True` on a tensor. You can do this at creation with the `requires_grad` keyword, or at any time with `x.requires_grad_(True)`.\n",
    "\n",
    "You can turn off gradients for a block of code with the `torch.no_grad()` content:\n",
    "```python\n",
    "x = torch.zeros(1, requires_grad=True)\n",
    ">>> with torch.no_grad():\n",
    "...     y = x * 2\n",
    ">>> y.requires_grad\n",
    "False\n",
    "```\n",
    "\n",
    "Also, you can turn on or off gradients altogether with `torch.set_grad_enabled(True|False)`.\n",
    "\n",
    "The gradients are computed with respect to some variable `z` with `z.backward()`. This does a backward pass through the operations that created `z`."
<<<<<<< HEAD
   ]
  },
  {
   "cell_type": "code",
   "execution_count": null,
   "metadata": {},
   "outputs": [],
   "source": [
    "x = torch.randn(2,2, requires_grad=True)\n",
    "print(x)"
   ]
  },
  {
   "cell_type": "code",
   "execution_count": null,
   "metadata": {},
   "outputs": [],
   "source": [
    "y = x**2\n",
    "print(y)"
   ]
  },
  {
   "cell_type": "markdown",
   "metadata": {},
   "source": [
    "Below we can see the operation that created `y`, a power operation `PowBackward0`."
   ]
  },
  {
   "cell_type": "code",
   "execution_count": null,
   "metadata": {},
   "outputs": [],
   "source": [
    "## grad_fn shows the function that generated this variable\n",
    "print(y.grad_fn)"
   ]
  },
  {
   "cell_type": "markdown",
   "metadata": {},
   "source": [
    "The autograd module keeps track of these operations and knows how to calculate the gradient for each one. In this way, it's able to calculate the gradients for a chain of operations, with respect to any one tensor. Let's reduce the tensor `y` to a scalar value, the mean."
   ]
  },
  {
   "cell_type": "code",
   "execution_count": null,
   "metadata": {},
   "outputs": [],
   "source": [
    "z = y.mean()\n",
    "print(z)"
   ]
  },
  {
   "cell_type": "markdown",
   "metadata": {},
   "source": [
    "You can check the gradients for `x` and `y` but they are empty currently."
   ]
  },
  {
   "cell_type": "code",
   "execution_count": null,
   "metadata": {},
   "outputs": [],
   "source": [
    "print(x.grad)"
   ]
  },
  {
   "cell_type": "markdown",
   "metadata": {},
=======
   ],
   "metadata": {}
  },
  {
   "cell_type": "code",
   "execution_count": 88,
   "source": [
    "x = torch.randn(2,2, requires_grad=True)\n",
    "print(x)"
   ],
   "outputs": [
    {
     "output_type": "stream",
     "name": "stdout",
     "text": [
      "tensor([[ 0.7693, -0.2032],\n",
      "        [ 0.5703, -1.0190]], requires_grad=True)\n"
     ]
    }
   ],
   "metadata": {}
  },
  {
   "cell_type": "code",
   "execution_count": 89,
   "source": [
    "y = x**2\n",
    "print(y)"
   ],
   "outputs": [
    {
     "output_type": "stream",
     "name": "stdout",
     "text": [
      "tensor([[0.5918, 0.0413],\n",
      "        [0.3252, 1.0383]], grad_fn=<PowBackward0>)\n"
     ]
    }
   ],
   "metadata": {}
  },
  {
   "cell_type": "markdown",
   "source": [
    "Below we can see the operation that created `y`, a power operation `PowBackward0`."
   ],
   "metadata": {}
  },
  {
   "cell_type": "code",
   "execution_count": 90,
   "source": [
    "## grad_fn shows the function that generated this variable\n",
    "print(y.grad_fn)"
   ],
   "outputs": [
    {
     "output_type": "stream",
     "name": "stdout",
     "text": [
      "<PowBackward0 object at 0x7fd41a9395b0>\n"
     ]
    }
   ],
   "metadata": {}
  },
  {
   "cell_type": "markdown",
   "source": [
    "The autograd module keeps track of these operations and knows how to calculate the gradient for each one. In this way, it's able to calculate the gradients for a chain of operations, with respect to any one tensor. Let's reduce the tensor `y` to a scalar value, the mean."
   ],
   "metadata": {}
  },
  {
   "cell_type": "code",
   "execution_count": 91,
   "source": [
    "z = y.mean()\n",
    "print(z)"
   ],
   "outputs": [
    {
     "output_type": "stream",
     "name": "stdout",
     "text": [
      "tensor(0.4992, grad_fn=<MeanBackward0>)\n"
     ]
    }
   ],
   "metadata": {}
  },
  {
   "cell_type": "markdown",
   "source": [
    "You can check the gradients for `x` and `y` but they are empty currently."
   ],
   "metadata": {}
  },
  {
   "cell_type": "code",
   "execution_count": 92,
   "source": [
    "print(x.grad)"
   ],
   "outputs": [
    {
     "output_type": "stream",
     "name": "stdout",
     "text": [
      "None\n"
     ]
    }
   ],
   "metadata": {}
  },
  {
   "cell_type": "markdown",
>>>>>>> 557fa63 (completed till sentiment analysis)
   "source": [
    "To calculate the gradients, you need to run the `.backward` method on a Variable, `z` for example. This will calculate the gradient for `z` with respect to `x`\n",
    "\n",
    "$$\n",
    "\\frac{\\partial z}{\\partial x} = \\frac{\\partial}{\\partial x}\\left[\\frac{1}{n}\\sum_i^n x_i^2\\right] = \\frac{x}{2}\n",
    "$$"
<<<<<<< HEAD
   ]
  },
  {
   "cell_type": "code",
   "execution_count": null,
   "metadata": {},
   "outputs": [],
=======
   ],
   "metadata": {}
  },
  {
   "cell_type": "code",
   "execution_count": 93,
>>>>>>> 557fa63 (completed till sentiment analysis)
   "source": [
    "z.backward()\n",
    "print(x.grad)\n",
    "print(x/2)"
<<<<<<< HEAD
   ]
  },
  {
   "cell_type": "markdown",
   "metadata": {},
   "source": [
    "These gradients calculations are particularly useful for neural networks. For training we need the gradients of the cost with respect to the weights. With PyTorch, we run data forward through the network to calculate the loss, then, go backwards to calculate the gradients with respect to the loss. Once we have the gradients we can make a gradient descent step. "
   ]
  },
  {
   "cell_type": "markdown",
   "metadata": {},
=======
   ],
   "outputs": [
    {
     "output_type": "stream",
     "name": "stdout",
     "text": [
      "tensor([[ 0.3847, -0.1016],\n",
      "        [ 0.2851, -0.5095]])\n",
      "tensor([[ 0.3847, -0.1016],\n",
      "        [ 0.2851, -0.5095]], grad_fn=<DivBackward0>)\n"
     ]
    }
   ],
   "metadata": {}
  },
  {
   "cell_type": "markdown",
   "source": [
    "These gradients calculations are particularly useful for neural networks. For training we need the gradients of the cost with respect to the weights. With PyTorch, we run data forward through the network to calculate the loss, then, go backwards to calculate the gradients with respect to the loss. Once we have the gradients we can make a gradient descent step. "
   ],
   "metadata": {}
  },
  {
   "cell_type": "code",
   "execution_count": 94,
   "source": [
    "import numpy as np\n",
    "x = torch.Tensor(np.array([1.0,2.0,3.0]))\n",
    "x"
   ],
   "outputs": [
    {
     "output_type": "execute_result",
     "data": {
      "text/plain": [
       "tensor([1., 2., 3.])"
      ]
     },
     "metadata": {},
     "execution_count": 94
    }
   ],
   "metadata": {}
  },
  {
   "cell_type": "code",
   "execution_count": 95,
   "source": [
    "x.requires_grad_(True)"
   ],
   "outputs": [
    {
     "output_type": "execute_result",
     "data": {
      "text/plain": [
       "tensor([1., 2., 3.], requires_grad=True)"
      ]
     },
     "metadata": {},
     "execution_count": 95
    }
   ],
   "metadata": {}
  },
  {
   "cell_type": "code",
   "execution_count": 96,
   "source": [
    "y = x ** 2\n",
    "z = y.mean()"
   ],
   "outputs": [],
   "metadata": {}
  },
  {
   "cell_type": "code",
   "execution_count": 97,
   "source": [
    "z.backward()"
   ],
   "outputs": [],
   "metadata": {}
  },
  {
   "cell_type": "code",
   "execution_count": 98,
   "source": [
    "print(x.grad)"
   ],
   "outputs": [
    {
     "output_type": "stream",
     "name": "stdout",
     "text": [
      "tensor([0.6667, 1.3333, 2.0000])\n"
     ]
    }
   ],
   "metadata": {}
  },
  {
   "cell_type": "markdown",
>>>>>>> 557fa63 (completed till sentiment analysis)
   "source": [
    "## Loss and Autograd together\n",
    "\n",
    "When we create a network with PyTorch, all of the parameters are initialized with `requires_grad = True`. This means that when we calculate the loss and call `loss.backward()`, the gradients for the parameters are calculated. These gradients are used to update the weights with gradient descent. Below you can see an example of calculating the gradients using a backwards pass."
<<<<<<< HEAD
   ]
  },
  {
   "cell_type": "code",
   "execution_count": null,
   "metadata": {},
   "outputs": [],
=======
   ],
   "metadata": {}
  },
  {
   "cell_type": "code",
   "execution_count": 99,
>>>>>>> 557fa63 (completed till sentiment analysis)
   "source": [
    "# Build a feed-forward network\n",
    "model = nn.Sequential(nn.Linear(784, 128),\n",
    "                      nn.ReLU(),\n",
    "                      nn.Linear(128, 64),\n",
    "                      nn.ReLU(),\n",
    "                      nn.Linear(64, 10),\n",
    "                      nn.LogSoftmax(dim=1))\n",
    "\n",
    "criterion = nn.NLLLoss()\n",
    "dataiter = iter(trainloader)\n",
    "images, labels = next(dataiter)\n",
    "images = images.view(images.shape[0], -1)\n",
    "\n",
    "logits = model(images)\n",
    "loss = criterion(logits, labels)"
<<<<<<< HEAD
   ]
  },
  {
   "cell_type": "code",
   "execution_count": null,
   "metadata": {},
   "outputs": [],
=======
   ],
   "outputs": [],
   "metadata": {}
  },
  {
   "cell_type": "code",
   "execution_count": 100,
>>>>>>> 557fa63 (completed till sentiment analysis)
   "source": [
    "print('Before backward pass: \\n', model[0].weight.grad)\n",
    "\n",
    "loss.backward()\n",
    "\n",
    "print('After backward pass: \\n', model[0].weight.grad)"
<<<<<<< HEAD
   ]
  },
  {
   "cell_type": "markdown",
   "metadata": {},
=======
   ],
   "outputs": [
    {
     "output_type": "stream",
     "name": "stdout",
     "text": [
      "Before backward pass: \n",
      " None\n",
      "After backward pass: \n",
      " tensor([[-0.0037, -0.0037, -0.0037,  ..., -0.0037, -0.0037, -0.0037],\n",
      "        [-0.0040, -0.0040, -0.0040,  ..., -0.0040, -0.0040, -0.0040],\n",
      "        [-0.0009, -0.0009, -0.0009,  ..., -0.0009, -0.0009, -0.0009],\n",
      "        ...,\n",
      "        [ 0.0022,  0.0022,  0.0022,  ...,  0.0022,  0.0022,  0.0022],\n",
      "        [-0.0006, -0.0006, -0.0006,  ..., -0.0006, -0.0006, -0.0006],\n",
      "        [-0.0036, -0.0036, -0.0036,  ..., -0.0036, -0.0036, -0.0036]])\n"
     ]
    }
   ],
   "metadata": {}
  },
  {
   "cell_type": "markdown",
>>>>>>> 557fa63 (completed till sentiment analysis)
   "source": [
    "## Training the network!\n",
    "\n",
    "There's one last piece we need to start training, an optimizer that we'll use to update the weights with the gradients. We get these from PyTorch's [`optim` package](https://pytorch.org/docs/stable/optim.html). For example we can use stochastic gradient descent with `optim.SGD`. You can see how to define an optimizer below."
<<<<<<< HEAD
   ]
  },
  {
   "cell_type": "code",
   "execution_count": null,
   "metadata": {},
   "outputs": [],
=======
   ],
   "metadata": {}
  },
  {
   "cell_type": "code",
   "execution_count": 101,
>>>>>>> 557fa63 (completed till sentiment analysis)
   "source": [
    "from torch import optim\n",
    "\n",
    "# Optimizers require the parameters to optimize and a learning rate\n",
    "optimizer = optim.SGD(model.parameters(), lr=0.01)"
<<<<<<< HEAD
   ]
  },
  {
   "cell_type": "markdown",
   "metadata": {},
=======
   ],
   "outputs": [],
   "metadata": {}
  },
  {
   "cell_type": "markdown",
>>>>>>> 557fa63 (completed till sentiment analysis)
   "source": [
    "Now we know how to use all the individual parts so it's time to see how they work together. Let's consider just one learning step before looping through all the data. The general process with PyTorch:\n",
    "\n",
    "* Make a forward pass through the network \n",
    "* Use the network output to calculate the loss\n",
    "* Perform a backward pass through the network with `loss.backward()` to calculate the gradients\n",
    "* Take a step with the optimizer to update the weights\n",
    "\n",
    "Below I'll go through one training step and print out the weights and gradients so you can see how it changes. Note that I have a line of code `optimizer.zero_grad()`. When you do multiple backwards passes with the same parameters, the gradients are accumulated. This means that you need to zero the gradients on each training pass or you'll retain gradients from previous training batches."
<<<<<<< HEAD
   ]
  },
  {
   "cell_type": "code",
   "execution_count": null,
   "metadata": {},
   "outputs": [],
=======
   ],
   "metadata": {}
  },
  {
   "cell_type": "code",
   "execution_count": 102,
>>>>>>> 557fa63 (completed till sentiment analysis)
   "source": [
    "print('Initial weights - ', model[0].weight)\n",
    "\n",
    "dataiter = iter(trainloader)\n",
    "images, labels = next(dataiter)\n",
    "images.resize_(64, 784)\n",
    "\n",
    "# Clear the gradients, do this because gradients are accumulated\n",
    "optimizer.zero_grad()\n",
    "\n",
    "# Forward pass, then backward pass, then update weights\n",
    "output = model(images)\n",
    "loss = criterion(output, labels)\n",
    "loss.backward()\n",
    "print('Gradient -', model[0].weight.grad)"
<<<<<<< HEAD
   ]
  },
  {
   "cell_type": "code",
   "execution_count": null,
   "metadata": {},
   "outputs": [],
=======
   ],
   "outputs": [
    {
     "output_type": "stream",
     "name": "stdout",
     "text": [
      "Initial weights -  Parameter containing:\n",
      "tensor([[ 0.0283,  0.0325, -0.0012,  ..., -0.0013,  0.0061,  0.0348],\n",
      "        [-0.0109, -0.0335,  0.0170,  ...,  0.0087, -0.0034,  0.0246],\n",
      "        [-0.0039,  0.0247,  0.0246,  ..., -0.0239, -0.0016,  0.0142],\n",
      "        ...,\n",
      "        [-0.0102, -0.0250, -0.0139,  ..., -0.0244,  0.0272,  0.0088],\n",
      "        [-0.0242, -0.0016, -0.0318,  ..., -0.0107, -0.0220, -0.0011],\n",
      "        [ 0.0148,  0.0345, -0.0260,  ...,  0.0174,  0.0095,  0.0244]],\n",
      "       requires_grad=True)\n",
      "Gradient - tensor([[-0.0010, -0.0010, -0.0010,  ..., -0.0010, -0.0010, -0.0010],\n",
      "        [ 0.0002,  0.0002,  0.0002,  ...,  0.0002,  0.0002,  0.0002],\n",
      "        [-0.0026, -0.0026, -0.0026,  ..., -0.0026, -0.0026, -0.0026],\n",
      "        ...,\n",
      "        [ 0.0022,  0.0022,  0.0022,  ...,  0.0022,  0.0022,  0.0022],\n",
      "        [-0.0002, -0.0002, -0.0002,  ..., -0.0002, -0.0002, -0.0002],\n",
      "        [-0.0048, -0.0048, -0.0048,  ..., -0.0048, -0.0048, -0.0048]])\n"
     ]
    }
   ],
   "metadata": {}
  },
  {
   "cell_type": "code",
   "execution_count": 103,
>>>>>>> 557fa63 (completed till sentiment analysis)
   "source": [
    "# Take an update step and view the new weights\n",
    "optimizer.step()\n",
    "print('Updated weights - ', model[0].weight)"
<<<<<<< HEAD
   ]
  },
  {
   "cell_type": "markdown",
   "metadata": {},
=======
   ],
   "outputs": [
    {
     "output_type": "stream",
     "name": "stdout",
     "text": [
      "Updated weights -  Parameter containing:\n",
      "tensor([[ 0.0283,  0.0326, -0.0012,  ..., -0.0013,  0.0061,  0.0348],\n",
      "        [-0.0109, -0.0335,  0.0170,  ...,  0.0087, -0.0034,  0.0246],\n",
      "        [-0.0038,  0.0247,  0.0246,  ..., -0.0238, -0.0015,  0.0142],\n",
      "        ...,\n",
      "        [-0.0102, -0.0251, -0.0139,  ..., -0.0244,  0.0272,  0.0087],\n",
      "        [-0.0242, -0.0016, -0.0318,  ..., -0.0107, -0.0220, -0.0011],\n",
      "        [ 0.0149,  0.0346, -0.0260,  ...,  0.0174,  0.0095,  0.0244]],\n",
      "       requires_grad=True)\n"
     ]
    }
   ],
   "metadata": {}
  },
  {
   "cell_type": "markdown",
>>>>>>> 557fa63 (completed till sentiment analysis)
   "source": [
    "### Training for real\n",
    "\n",
    "Now we'll put this algorithm into a loop so we can go through all the images. Some nomenclature, one pass through the entire dataset is called an *epoch*. So here we're going to loop through `trainloader` to get our training batches. For each batch, we'll be doing a training pass where we calculate the loss, do a backwards pass, and update the weights.\n",
    "\n",
    ">**Exercise:** Implement the training pass for our network. If you implemented it correctly, you should see the training loss drop with each epoch."
<<<<<<< HEAD
   ]
  },
  {
   "cell_type": "code",
   "execution_count": null,
   "metadata": {},
   "outputs": [],
=======
   ],
   "metadata": {}
  },
  {
   "cell_type": "code",
   "execution_count": 104,
>>>>>>> 557fa63 (completed till sentiment analysis)
   "source": [
    "## Your solution here\n",
    "\n",
    "model = nn.Sequential(nn.Linear(784, 128),\n",
    "                      nn.ReLU(),\n",
    "                      nn.Linear(128, 64),\n",
    "                      nn.ReLU(),\n",
    "                      nn.Linear(64, 10),\n",
    "                      nn.LogSoftmax(dim=1))\n",
    "\n",
    "criterion = nn.NLLLoss()\n",
    "optimizer = optim.SGD(model.parameters(), lr=0.003)\n",
    "\n",
    "epochs = 5\n",
    "for e in range(epochs):\n",
    "    running_loss = 0\n",
    "    for images, labels in trainloader:\n",
    "        # Flatten MNIST images into a 784 long vector\n",
    "        images = images.view(images.shape[0], -1)\n",
    "    \n",
    "        # TODO: Training pass\n",
<<<<<<< HEAD
    "        \n",
    "        loss = \n",
    "        \n",
    "        running_loss += loss.item()\n",
    "    else:\n",
    "        print(f\"Training loss: {running_loss/len(trainloader)}\")"
   ]
  },
  {
   "cell_type": "markdown",
   "metadata": {},
   "source": [
    "With the network trained, we can check out it's predictions."
   ]
  },
  {
   "cell_type": "code",
   "execution_count": null,
   "metadata": {},
   "outputs": [],
=======
    "        optimizer.zero_grad()\n",
    "\n",
    "        output = model.forward(images)\n",
    "        loss = criterion(output,labels)\n",
    "        running_loss += loss.item()\n",
    "\n",
    "        loss.backward()\n",
    "        optimizer.step()\n",
    "\n",
    "    else:\n",
    "        print(f\"Training loss: {running_loss/len(trainloader)}\")"
   ],
   "outputs": [
    {
     "output_type": "stream",
     "name": "stdout",
     "text": [
      "Training loss: 1.8937699224140598\n",
      "Training loss: 0.8497023772456245\n",
      "Training loss: 0.5292127776914822\n",
      "Training loss: 0.4328883108871578\n",
      "Training loss: 0.38854131307492634\n"
     ]
    }
   ],
   "metadata": {}
  },
  {
   "cell_type": "markdown",
   "source": [
    "With the network trained, we can check out it's predictions."
   ],
   "metadata": {}
  },
  {
   "cell_type": "code",
   "execution_count": 108,
>>>>>>> 557fa63 (completed till sentiment analysis)
   "source": [
    "%matplotlib inline\n",
    "import helper\n",
    "\n",
    "dataiter = iter(trainloader)\n",
    "images, labels = next(dataiter)\n",
    "\n",
    "img = images[0].view(1, 784)\n",
    "# Turn off gradients to speed up this part\n",
<<<<<<< HEAD
    "with torch.no_grad():\n",
=======
    "with torch.inference_mode():\n",
>>>>>>> 557fa63 (completed till sentiment analysis)
    "    logps = model(img)\n",
    "\n",
    "# Output of the network are log-probabilities, need to take exponential for probabilities\n",
    "ps = torch.exp(logps)\n",
<<<<<<< HEAD
    "helper.view_classify(img.view(1, 28, 28), ps)"
   ]
  },
  {
   "cell_type": "markdown",
   "metadata": {},
   "source": [
    "Now our network is brilliant. It can accurately predict the digits in our images. Next up you'll write the code for training a neural network on a more complex dataset."
   ]
=======
    "# helper.view_classify(img.view(1, 28, 28), ps)|"
   ],
   "outputs": [],
   "metadata": {}
  },
  {
   "cell_type": "markdown",
   "source": [
    "### Plotting results"
   ],
   "metadata": {}
  },
  {
   "cell_type": "code",
   "execution_count": 113,
   "source": [
    "def plot_graph(img, ps):\n",
    "    img = img.view(1,28,28).squeeze()\n",
    "    fig, (ax1,ax2) = plt.subplots(figsize=(6,9), ncols=2)\n",
    "    ax1.imshow(img)\n",
    "    ax2.barh(np.arange(10), ps.data.numpy().squeeze())\n",
    "    ax2.set_yticks(np.arange(10))\n",
    "    ax2.set_aspect(0.1)\n",
    "    ax2.set_xlim(0,1,1)\n",
    "    plt.tight_layout()"
   ],
   "outputs": [],
   "metadata": {}
  },
  {
   "cell_type": "code",
   "execution_count": 114,
   "source": [
    "plot_graph(img,ps)"
   ],
   "outputs": [
    {
     "output_type": "display_data",
     "data": {
      "image/png": "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",
      "text/plain": [
       "<Figure size 432x648 with 2 Axes>"
      ]
     },
     "metadata": {
      "needs_background": "light"
     }
    }
   ],
   "metadata": {}
  },
  {
   "cell_type": "code",
   "execution_count": null,
   "source": [],
   "outputs": [],
   "metadata": {}
>>>>>>> 557fa63 (completed till sentiment analysis)
  }
 ],
 "metadata": {
  "kernelspec": {
<<<<<<< HEAD
   "display_name": "Python 3",
   "language": "python",
   "name": "python3"
=======
   "name": "python3",
   "display_name": "Python 3.8.10 64-bit ('venv': venv)"
>>>>>>> 557fa63 (completed till sentiment analysis)
  },
  "language_info": {
   "codemirror_mode": {
    "name": "ipython",
    "version": 3
   },
   "file_extension": ".py",
   "mimetype": "text/x-python",
   "name": "python",
   "nbconvert_exporter": "python",
   "pygments_lexer": "ipython3",
<<<<<<< HEAD
   "version": "3.7.1"
=======
   "version": "3.8.10"
  },
  "interpreter": {
   "hash": "6d0ce585ba42aaeb440d8bc31b1cfe4df4b28be41ad5aca95db481df065fbb3c"
>>>>>>> 557fa63 (completed till sentiment analysis)
  }
 },
 "nbformat": 4,
 "nbformat_minor": 2
<<<<<<< HEAD
}
=======
}
>>>>>>> 557fa63 (completed till sentiment analysis)
